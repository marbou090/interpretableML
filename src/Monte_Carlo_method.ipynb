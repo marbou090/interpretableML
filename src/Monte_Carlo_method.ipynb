{
 "cells": [
  {
   "cell_type": "markdown",
   "id": "a0946d98",
   "metadata": {},
   "source": [
    "# モンテカルロ法\n",
    "確立的数値計算手法。シミュレーション対象の現象に対して、その入力に大量の乱数を十分与えて出力値を観測することで、その現象を確立的に解いてみる手法。乱数が違う確率分布はシミュレーション対象に依る。シミュレーション法には他にシステマティック法というのもあり、こちらは乱数は使わず決定的に一回の計算で解を求める。"
   ]
  }
 ],
 "metadata": {
  "kernelspec": {
   "display_name": "Python 3",
   "language": "python",
   "name": "python3"
  },
  "language_info": {
   "codemirror_mode": {
    "name": "ipython",
    "version": 3
   },
   "file_extension": ".py",
   "mimetype": "text/x-python",
   "name": "python",
   "nbconvert_exporter": "python",
   "pygments_lexer": "ipython3",
   "version": "3.6.15"
  }
 },
 "nbformat": 4,
 "nbformat_minor": 5
}
