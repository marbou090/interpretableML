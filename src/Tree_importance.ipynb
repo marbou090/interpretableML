{
 "cells": [
  {
   "cell_type": "markdown",
   "id": "28d5d122",
   "metadata": {},
   "source": [
    "# Permutation Importance\n",
    "Permutation Importance(https://arxiv.org/abs/1801.01489)では、ある特徴量がどれだけモデルの予測精度向上に寄与しているか計算する。\n",
    "\n",
    "この重要度を測るために、Permutationと呼ばれる手法を使う。ある特徴量をランダムに並べ変えると、その特徴量は意味のない特徴量となりモデルに寄与しなくなる。その状態で学習したモデルの精度を測り、元のモデル精度と比べることで、変化した誤差分だけモデルに寄与していたと言える。\n",
    "\n",
    "そしてランダム化した特徴量で作ったモデルの誤差を、もともとのモデルの誤差で割ったものがPermutation Importanceである。"
   ]
  }
 ],
 "metadata": {
  "kernelspec": {
   "display_name": "Python 3 (ipykernel)",
   "language": "python",
   "name": "python3"
  },
  "language_info": {
   "codemirror_mode": {
    "name": "ipython",
    "version": 3
   },
   "file_extension": ".py",
   "mimetype": "text/x-python",
   "name": "python",
   "nbconvert_exporter": "python",
   "pygments_lexer": "ipython3",
   "version": "3.9.0"
  }
 },
 "nbformat": 4,
 "nbformat_minor": 5
}
