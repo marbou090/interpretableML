{
 "cells": [
  {
   "cell_type": "code",
   "execution_count": 1,
   "metadata": {},
   "outputs": [],
   "source": [
    "import pathlib\n",
    "import pprint"
   ]
  },
  {
   "cell_type": "code",
   "execution_count": 2,
   "metadata": {},
   "outputs": [],
   "source": [
    "import math\n",
    "import pandas as pd\n",
    "import numpy as np\n",
    "from sklearn.pipeline import make_pipeline\n",
    "from sklearn.preprocessing import PolynomialFeatures, StandardScaler\n",
    "from sklearn.model_selection import train_test_split\n",
    "from sklearn import metrics, linear_model, tree, naive_bayes, neighbors, ensemble,neural_network, svm, decomposition, manifold\n",
    "from rulefit import RuleFit\n",
    "import statsmodels.api as sm\n",
    "from interpret.glassbox import ExplainableBoostingClassifier\n",
    "from interpret import show\n",
    "from interpret.perf import ROC\n",
    "import matplotlib.pyplot as plt\n",
    "import seaborn as sns"
   ]
  },
  {
   "cell_type": "code",
   "execution_count": 3,
   "metadata": {},
   "outputs": [],
   "source": [
    "pd.options.display.float_format = '{:.2f}'.format"
   ]
  },
  {
   "cell_type": "markdown",
   "metadata": {},
   "source": [
    "### 使用するデータ\n",
    "https://www.kaggle.com/c/tabular-playground-series-mar-2022/overview\n",
    "\n",
    "このコンテストでは、米国の主要大都市圏での12時間の交通流を予測します。時間、空間、および方向性の機能により、道路のネットワーク全体の相互作用をモデル化する機会が得られます。\n",
    "\n",
    "+ train.csv- 1991年4月から9月までの65の道路での交通渋滞の測定で構成されるトレーニングセット。\n",
    "    + row_id-このインスタンスの一意の識別子\n",
    "    + time-各測定が行われた20分間\n",
    "    + x-道路の東西中点座標\n",
    "    + y-道路の南北中点座標\n",
    "    + direction-車道の進行方向。EBたとえば、「東行き」の移動をSW示し、「南西」の移動方向を示します。\n",
    "    + congestion-1時間ごとの道路の渋滞レベル。ターゲット。輻輳測定値は、0〜100の範囲に正規化されています。\n",
    "+ test.csv-テストセット。1991年9月30日の座標位置と進行方向によって識別される道路の1時間ごとの予測を行います。\n",
    "+ sample_submission.csv-正しい形式のサンプル送信ファイル"
   ]
  },
  {
   "cell_type": "markdown",
   "metadata": {},
   "source": []
  },
  {
   "cell_type": "code",
   "execution_count": 4,
   "metadata": {},
   "outputs": [
    {
     "output_type": "stream",
     "name": "stdout",
     "text": "[PosixPath('../data/.DS_Store'),\n PosixPath('../data/test.csv'),\n PosixPath('../data/train.csv'),\n PosixPath('../data/sample_submission.csv')]\n"
    }
   ],
   "source": [
    "p_temp = pathlib.Path('../data')\n",
    "pprint.pprint(list(p_temp.iterdir()))"
   ]
  },
  {
   "cell_type": "markdown",
   "metadata": {},
   "source": [
    "### 要約統計量\n",
    "異常な外れ値などはなし。timeという時系列データがあり、このままだと予測を出せないので、`datetime`を使って特徴量を追加する。また、`direction`はカテゴリカル特徴量なので、値に変換する。"
   ]
  },
  {
   "cell_type": "code",
   "execution_count": 5,
   "metadata": {},
   "outputs": [
    {
     "output_type": "execute_result",
     "data": {
      "text/plain": "   row_id                 time  x  y direction  congestion\n0       0  1991-04-01 00:00:00  0  0        EB          70\n1       1  1991-04-01 00:00:00  0  0        NB          49\n2       2  1991-04-01 00:00:00  0  0        SB          24\n3       3  1991-04-01 00:00:00  0  1        EB          18\n4       4  1991-04-01 00:00:00  0  1        NB          60",
      "text/html": "<div>\n<style scoped>\n    .dataframe tbody tr th:only-of-type {\n        vertical-align: middle;\n    }\n\n    .dataframe tbody tr th {\n        vertical-align: top;\n    }\n\n    .dataframe thead th {\n        text-align: right;\n    }\n</style>\n<table border=\"1\" class=\"dataframe\">\n  <thead>\n    <tr style=\"text-align: right;\">\n      <th></th>\n      <th>row_id</th>\n      <th>time</th>\n      <th>x</th>\n      <th>y</th>\n      <th>direction</th>\n      <th>congestion</th>\n    </tr>\n  </thead>\n  <tbody>\n    <tr>\n      <th>0</th>\n      <td>0</td>\n      <td>1991-04-01 00:00:00</td>\n      <td>0</td>\n      <td>0</td>\n      <td>EB</td>\n      <td>70</td>\n    </tr>\n    <tr>\n      <th>1</th>\n      <td>1</td>\n      <td>1991-04-01 00:00:00</td>\n      <td>0</td>\n      <td>0</td>\n      <td>NB</td>\n      <td>49</td>\n    </tr>\n    <tr>\n      <th>2</th>\n      <td>2</td>\n      <td>1991-04-01 00:00:00</td>\n      <td>0</td>\n      <td>0</td>\n      <td>SB</td>\n      <td>24</td>\n    </tr>\n    <tr>\n      <th>3</th>\n      <td>3</td>\n      <td>1991-04-01 00:00:00</td>\n      <td>0</td>\n      <td>1</td>\n      <td>EB</td>\n      <td>18</td>\n    </tr>\n    <tr>\n      <th>4</th>\n      <td>4</td>\n      <td>1991-04-01 00:00:00</td>\n      <td>0</td>\n      <td>1</td>\n      <td>NB</td>\n      <td>60</td>\n    </tr>\n  </tbody>\n</table>\n</div>"
     },
     "metadata": {},
     "execution_count": 5
    }
   ],
   "source": [
    "train = pd.read_csv('../data/train.csv')\n",
    "train.head()"
   ]
  },
  {
   "cell_type": "code",
   "execution_count": 6,
   "metadata": {},
   "outputs": [
    {
     "output_type": "execute_result",
     "data": {
      "text/plain": "         row_id         x         y  congestion\ncount 848835.00 848835.00 848835.00   848835.00\nmean  424417.00      1.14      1.63       47.82\nstd   245037.70      0.80      1.09       16.80\nmin        0.00      0.00      0.00        0.00\n25%   212208.50      0.00      1.00       35.00\n50%   424417.00      1.00      2.00       47.00\n75%   636625.50      2.00      3.00       60.00\nmax   848834.00      2.00      3.00      100.00",
      "text/html": "<div>\n<style scoped>\n    .dataframe tbody tr th:only-of-type {\n        vertical-align: middle;\n    }\n\n    .dataframe tbody tr th {\n        vertical-align: top;\n    }\n\n    .dataframe thead th {\n        text-align: right;\n    }\n</style>\n<table border=\"1\" class=\"dataframe\">\n  <thead>\n    <tr style=\"text-align: right;\">\n      <th></th>\n      <th>row_id</th>\n      <th>x</th>\n      <th>y</th>\n      <th>congestion</th>\n    </tr>\n  </thead>\n  <tbody>\n    <tr>\n      <th>count</th>\n      <td>848835.00</td>\n      <td>848835.00</td>\n      <td>848835.00</td>\n      <td>848835.00</td>\n    </tr>\n    <tr>\n      <th>mean</th>\n      <td>424417.00</td>\n      <td>1.14</td>\n      <td>1.63</td>\n      <td>47.82</td>\n    </tr>\n    <tr>\n      <th>std</th>\n      <td>245037.70</td>\n      <td>0.80</td>\n      <td>1.09</td>\n      <td>16.80</td>\n    </tr>\n    <tr>\n      <th>min</th>\n      <td>0.00</td>\n      <td>0.00</td>\n      <td>0.00</td>\n      <td>0.00</td>\n    </tr>\n    <tr>\n      <th>25%</th>\n      <td>212208.50</td>\n      <td>0.00</td>\n      <td>1.00</td>\n      <td>35.00</td>\n    </tr>\n    <tr>\n      <th>50%</th>\n      <td>424417.00</td>\n      <td>1.00</td>\n      <td>2.00</td>\n      <td>47.00</td>\n    </tr>\n    <tr>\n      <th>75%</th>\n      <td>636625.50</td>\n      <td>2.00</td>\n      <td>3.00</td>\n      <td>60.00</td>\n    </tr>\n    <tr>\n      <th>max</th>\n      <td>848834.00</td>\n      <td>2.00</td>\n      <td>3.00</td>\n      <td>100.00</td>\n    </tr>\n  </tbody>\n</table>\n</div>"
     },
     "metadata": {},
     "execution_count": 6
    }
   ],
   "source": [
    "train.describe()"
   ]
  },
  {
   "cell_type": "code",
   "execution_count": 7,
   "metadata": {},
   "outputs": [],
   "source": [
    "import datetime"
   ]
  },
  {
   "cell_type": "code",
   "execution_count": 8,
   "metadata": {},
   "outputs": [],
   "source": [
    "train['year']=0\n",
    "train['month']=0\n",
    "train['day']=0\n",
    "train['hour']=0\n",
    "train['minute']=0\n",
    "train['second']=0"
   ]
  },
  {
   "cell_type": "markdown",
   "metadata": {},
   "source": [
    "1991-04-01 00:00:00"
   ]
  },
  {
   "cell_type": "code",
   "execution_count": 9,
   "metadata": {},
   "outputs": [],
   "source": [
    "for index,row in train.iterrows():\n",
    "    date_str = row['time']\n",
    "    date_dt = datetime.datetime.strptime(date_str, '%Y-%m-%d %H:%M:%S')\n",
    "    train.loc[index,'year']=date_dt.year\n",
    "    train.loc[index,'month']=date_dt.month\n",
    "    train.loc[index,'day']=date_dt.day\n",
    "    train.loc[index,'hour']=date_dt.hour\n",
    "    train.loc[index,'minute']=date_dt.minute\n",
    "    train.loc[index,'second']=date_dt.second"
   ]
  },
  {
   "cell_type": "code",
   "execution_count": 10,
   "metadata": {},
   "outputs": [],
   "source": [
    "train = train.drop('time',axis=1)"
   ]
  },
  {
   "cell_type": "code",
   "execution_count": 11,
   "metadata": {},
   "outputs": [
    {
     "output_type": "stream",
     "name": "stdout",
     "text": "['EB' 'NB' 'SB' 'WB' 'NE' 'SW' 'NW' 'SE']\n"
    }
   ],
   "source": [
    "direction_dict = train['direction'].unique()\n",
    "print(direction_dict)"
   ]
  },
  {
   "cell_type": "code",
   "execution_count": 12,
   "metadata": {},
   "outputs": [],
   "source": [
    "train = train.replace({'direction':{'EB':0,'NB':1,'SB':2,'WB':3,'NE':4,'SW':5,'NW':6,'SE':7}})"
   ]
  },
  {
   "cell_type": "code",
   "execution_count": 13,
   "metadata": {},
   "outputs": [
    {
     "output_type": "execute_result",
     "data": {
      "text/plain": "   row_id  x  y  direction  congestion  year  month  day  hour  minute  second\n0       0  0  0          0          70  1991      4    1     0       0       0\n1       1  0  0          1          49  1991      4    1     0       0       0\n2       2  0  0          2          24  1991      4    1     0       0       0\n3       3  0  1          0          18  1991      4    1     0       0       0\n4       4  0  1          1          60  1991      4    1     0       0       0",
      "text/html": "<div>\n<style scoped>\n    .dataframe tbody tr th:only-of-type {\n        vertical-align: middle;\n    }\n\n    .dataframe tbody tr th {\n        vertical-align: top;\n    }\n\n    .dataframe thead th {\n        text-align: right;\n    }\n</style>\n<table border=\"1\" class=\"dataframe\">\n  <thead>\n    <tr style=\"text-align: right;\">\n      <th></th>\n      <th>row_id</th>\n      <th>x</th>\n      <th>y</th>\n      <th>direction</th>\n      <th>congestion</th>\n      <th>year</th>\n      <th>month</th>\n      <th>day</th>\n      <th>hour</th>\n      <th>minute</th>\n      <th>second</th>\n    </tr>\n  </thead>\n  <tbody>\n    <tr>\n      <th>0</th>\n      <td>0</td>\n      <td>0</td>\n      <td>0</td>\n      <td>0</td>\n      <td>70</td>\n      <td>1991</td>\n      <td>4</td>\n      <td>1</td>\n      <td>0</td>\n      <td>0</td>\n      <td>0</td>\n    </tr>\n    <tr>\n      <th>1</th>\n      <td>1</td>\n      <td>0</td>\n      <td>0</td>\n      <td>1</td>\n      <td>49</td>\n      <td>1991</td>\n      <td>4</td>\n      <td>1</td>\n      <td>0</td>\n      <td>0</td>\n      <td>0</td>\n    </tr>\n    <tr>\n      <th>2</th>\n      <td>2</td>\n      <td>0</td>\n      <td>0</td>\n      <td>2</td>\n      <td>24</td>\n      <td>1991</td>\n      <td>4</td>\n      <td>1</td>\n      <td>0</td>\n      <td>0</td>\n      <td>0</td>\n    </tr>\n    <tr>\n      <th>3</th>\n      <td>3</td>\n      <td>0</td>\n      <td>1</td>\n      <td>0</td>\n      <td>18</td>\n      <td>1991</td>\n      <td>4</td>\n      <td>1</td>\n      <td>0</td>\n      <td>0</td>\n      <td>0</td>\n    </tr>\n    <tr>\n      <th>4</th>\n      <td>4</td>\n      <td>0</td>\n      <td>1</td>\n      <td>1</td>\n      <td>60</td>\n      <td>1991</td>\n      <td>4</td>\n      <td>1</td>\n      <td>0</td>\n      <td>0</td>\n      <td>0</td>\n    </tr>\n  </tbody>\n</table>\n</div>"
     },
     "metadata": {},
     "execution_count": 13
    }
   ],
   "source": [
    "train.head()"
   ]
  },
  {
   "cell_type": "code",
   "execution_count": 14,
   "metadata": {},
   "outputs": [
    {
     "output_type": "execute_result",
     "data": {
      "text/plain": "         row_id         x         y  direction  congestion      year  \\\ncount 848835.00 848835.00 848835.00  848835.00   848835.00 848835.00   \nmean  424417.00      1.14      1.63       2.43       47.82   1991.00   \nstd   245037.70      0.80      1.09       1.89       16.80      0.00   \nmin        0.00      0.00      0.00       0.00        0.00   1991.00   \n25%   212208.50      0.00      1.00       1.00       35.00   1991.00   \n50%   424417.00      1.00      2.00       2.00       47.00   1991.00   \n75%   636625.50      2.00      3.00       4.00       60.00   1991.00   \nmax   848834.00      2.00      3.00       7.00      100.00   1991.00   \n\n          month       day      hour    minute    second  \ncount 848835.00 848835.00 848835.00 848835.00 848835.00  \nmean       6.49     15.70     11.48     20.01      0.00  \nstd        1.70      8.79      6.93     16.33      0.00  \nmin        4.00      1.00      0.00      0.00      0.00  \n25%        5.00      8.00      5.00      0.00      0.00  \n50%        6.00     16.00     11.00     20.00      0.00  \n75%        8.00     23.00     17.00     40.00      0.00  \nmax        9.00     31.00     23.00     40.00      0.00  ",
      "text/html": "<div>\n<style scoped>\n    .dataframe tbody tr th:only-of-type {\n        vertical-align: middle;\n    }\n\n    .dataframe tbody tr th {\n        vertical-align: top;\n    }\n\n    .dataframe thead th {\n        text-align: right;\n    }\n</style>\n<table border=\"1\" class=\"dataframe\">\n  <thead>\n    <tr style=\"text-align: right;\">\n      <th></th>\n      <th>row_id</th>\n      <th>x</th>\n      <th>y</th>\n      <th>direction</th>\n      <th>congestion</th>\n      <th>year</th>\n      <th>month</th>\n      <th>day</th>\n      <th>hour</th>\n      <th>minute</th>\n      <th>second</th>\n    </tr>\n  </thead>\n  <tbody>\n    <tr>\n      <th>count</th>\n      <td>848835.00</td>\n      <td>848835.00</td>\n      <td>848835.00</td>\n      <td>848835.00</td>\n      <td>848835.00</td>\n      <td>848835.00</td>\n      <td>848835.00</td>\n      <td>848835.00</td>\n      <td>848835.00</td>\n      <td>848835.00</td>\n      <td>848835.00</td>\n    </tr>\n    <tr>\n      <th>mean</th>\n      <td>424417.00</td>\n      <td>1.14</td>\n      <td>1.63</td>\n      <td>2.43</td>\n      <td>47.82</td>\n      <td>1991.00</td>\n      <td>6.49</td>\n      <td>15.70</td>\n      <td>11.48</td>\n      <td>20.01</td>\n      <td>0.00</td>\n    </tr>\n    <tr>\n      <th>std</th>\n      <td>245037.70</td>\n      <td>0.80</td>\n      <td>1.09</td>\n      <td>1.89</td>\n      <td>16.80</td>\n      <td>0.00</td>\n      <td>1.70</td>\n      <td>8.79</td>\n      <td>6.93</td>\n      <td>16.33</td>\n      <td>0.00</td>\n    </tr>\n    <tr>\n      <th>min</th>\n      <td>0.00</td>\n      <td>0.00</td>\n      <td>0.00</td>\n      <td>0.00</td>\n      <td>0.00</td>\n      <td>1991.00</td>\n      <td>4.00</td>\n      <td>1.00</td>\n      <td>0.00</td>\n      <td>0.00</td>\n      <td>0.00</td>\n    </tr>\n    <tr>\n      <th>25%</th>\n      <td>212208.50</td>\n      <td>0.00</td>\n      <td>1.00</td>\n      <td>1.00</td>\n      <td>35.00</td>\n      <td>1991.00</td>\n      <td>5.00</td>\n      <td>8.00</td>\n      <td>5.00</td>\n      <td>0.00</td>\n      <td>0.00</td>\n    </tr>\n    <tr>\n      <th>50%</th>\n      <td>424417.00</td>\n      <td>1.00</td>\n      <td>2.00</td>\n      <td>2.00</td>\n      <td>47.00</td>\n      <td>1991.00</td>\n      <td>6.00</td>\n      <td>16.00</td>\n      <td>11.00</td>\n      <td>20.00</td>\n      <td>0.00</td>\n    </tr>\n    <tr>\n      <th>75%</th>\n      <td>636625.50</td>\n      <td>2.00</td>\n      <td>3.00</td>\n      <td>4.00</td>\n      <td>60.00</td>\n      <td>1991.00</td>\n      <td>8.00</td>\n      <td>23.00</td>\n      <td>17.00</td>\n      <td>40.00</td>\n      <td>0.00</td>\n    </tr>\n    <tr>\n      <th>max</th>\n      <td>848834.00</td>\n      <td>2.00</td>\n      <td>3.00</td>\n      <td>7.00</td>\n      <td>100.00</td>\n      <td>1991.00</td>\n      <td>9.00</td>\n      <td>31.00</td>\n      <td>23.00</td>\n      <td>40.00</td>\n      <td>0.00</td>\n    </tr>\n  </tbody>\n</table>\n</div>"
     },
     "metadata": {},
     "execution_count": 14
    }
   ],
   "source": [
    "train.describe()"
   ]
  },
  {
   "cell_type": "markdown",
   "metadata": {},
   "source": [
    "### 予測の準備する\n"
   ]
  },
  {
   "cell_type": "code",
   "execution_count": 15,
   "metadata": {},
   "outputs": [],
   "source": [
    "y=train['congestion']\n",
    "X=train.drop(['congestion','row_id'],axis=1)"
   ]
  },
  {
   "cell_type": "code",
   "execution_count": 16,
   "metadata": {},
   "outputs": [
    {
     "output_type": "execute_result",
     "data": {
      "text/plain": "0    70\n1    49\n2    24\n3    18\n4    60\nName: congestion, dtype: int64"
     },
     "metadata": {},
     "execution_count": 16
    }
   ],
   "source": [
    "y.head()"
   ]
  },
  {
   "cell_type": "code",
   "execution_count": 17,
   "metadata": {},
   "outputs": [
    {
     "output_type": "execute_result",
     "data": {
      "text/plain": "   x  y  direction  year  month  day  hour  minute  second\n0  0  0          0  1991      4    1     0       0       0\n1  0  0          1  1991      4    1     0       0       0\n2  0  0          2  1991      4    1     0       0       0\n3  0  1          0  1991      4    1     0       0       0\n4  0  1          1  1991      4    1     0       0       0",
      "text/html": "<div>\n<style scoped>\n    .dataframe tbody tr th:only-of-type {\n        vertical-align: middle;\n    }\n\n    .dataframe tbody tr th {\n        vertical-align: top;\n    }\n\n    .dataframe thead th {\n        text-align: right;\n    }\n</style>\n<table border=\"1\" class=\"dataframe\">\n  <thead>\n    <tr style=\"text-align: right;\">\n      <th></th>\n      <th>x</th>\n      <th>y</th>\n      <th>direction</th>\n      <th>year</th>\n      <th>month</th>\n      <th>day</th>\n      <th>hour</th>\n      <th>minute</th>\n      <th>second</th>\n    </tr>\n  </thead>\n  <tbody>\n    <tr>\n      <th>0</th>\n      <td>0</td>\n      <td>0</td>\n      <td>0</td>\n      <td>1991</td>\n      <td>4</td>\n      <td>1</td>\n      <td>0</td>\n      <td>0</td>\n      <td>0</td>\n    </tr>\n    <tr>\n      <th>1</th>\n      <td>0</td>\n      <td>0</td>\n      <td>1</td>\n      <td>1991</td>\n      <td>4</td>\n      <td>1</td>\n      <td>0</td>\n      <td>0</td>\n      <td>0</td>\n    </tr>\n    <tr>\n      <th>2</th>\n      <td>0</td>\n      <td>0</td>\n      <td>2</td>\n      <td>1991</td>\n      <td>4</td>\n      <td>1</td>\n      <td>0</td>\n      <td>0</td>\n      <td>0</td>\n    </tr>\n    <tr>\n      <th>3</th>\n      <td>0</td>\n      <td>1</td>\n      <td>0</td>\n      <td>1991</td>\n      <td>4</td>\n      <td>1</td>\n      <td>0</td>\n      <td>0</td>\n      <td>0</td>\n    </tr>\n    <tr>\n      <th>4</th>\n      <td>0</td>\n      <td>1</td>\n      <td>1</td>\n      <td>1991</td>\n      <td>4</td>\n      <td>1</td>\n      <td>0</td>\n      <td>0</td>\n      <td>0</td>\n    </tr>\n  </tbody>\n</table>\n</div>"
     },
     "metadata": {},
     "execution_count": 17
    }
   ],
   "source": [
    "X.head()"
   ]
  },
  {
   "cell_type": "code",
   "execution_count": 18,
   "metadata": {},
   "outputs": [],
   "source": [
    "X_train, X_test, y_train, y_test =train_test_split(X, y, test_size=0.15, random_state=9)"
   ]
  },
  {
   "cell_type": "code",
   "execution_count": 19,
   "metadata": {},
   "outputs": [
    {
     "output_type": "execute_result",
     "data": {
      "text/plain": "congestion   1.00\ndirection    0.29\nhour         0.15\ny            0.09\nx            0.05\nday          0.01\nrow_id       0.00\nmonth        0.00\nminute       0.00\nyear          NaN\nsecond        NaN\nName: congestion, dtype: float64"
     },
     "metadata": {},
     "execution_count": 19
    }
   ],
   "source": [
    "corr = train.corr()\n",
    "abs(corr['congestion']).sort_values(ascending=False)"
   ]
  },
  {
   "cell_type": "markdown",
   "metadata": {},
   "source": [
    "# 解釈方法の種類と範囲\n",
    "いろんなモデルを使う。"
   ]
  },
  {
   "cell_type": "code",
   "execution_count": 20,
   "metadata": {},
   "outputs": [],
   "source": [
    "rand=0"
   ]
  },
  {
   "cell_type": "code",
   "execution_count": 21,
   "metadata": {},
   "outputs": [],
   "source": [
    "reg_models = {\n",
    "        #Generalized Linear Models (GLMs)\n",
    "    'linear':{'model': linear_model.LinearRegression()}, \n",
    "    'linear_poly':{'model': make_pipeline(PolynomialFeatures(degree=2),\n",
    "    linear_model.LinearRegression(fit_intercept=False)) },\n",
    "    'linear_interact':{'model': make_pipeline(PolynomialFeatures(interaction_only=True),\n",
    "                            linear_model.LinearRegression(fit_intercept=False)) },\n",
    "    'ridge':{'model': linear_model.RidgeCV(alphas=[1e-3, 1e-2, 1e-1, 1]) }, \n",
    "    #Trees  \n",
    "    'decision_tree':{'model': tree.DecisionTreeRegressor(max_depth=7, random_state=rand)},\n",
    "    #RuleFit\n",
    "    'rulefit':{'model': RuleFit(max_rules=150, rfmode='regress', random_state=rand)}, \n",
    "    #Nearest Neighbors\n",
    "    'knn':{'model': neighbors.KNeighborsRegressor(n_neighbors=7)}, \n",
    "    #Ensemble Methods\n",
    "    'random_forest':{'model':ensemble.RandomForestRegressor(max_depth=7, random_state=rand)}, \n",
    "    #Neural Networks\n",
    "    'mlp':{'model':neural_network.MLPRegressor(hidden_layer_sizes=(21,), max_iter=500, early_stopping=True, random_state=rand)}\n",
    "}"
   ]
  },
  {
   "cell_type": "code",
   "execution_count": 22,
   "metadata": {},
   "outputs": [],
   "source": [
    "for model_name in reg_models.keys():\n",
    "    if model_name != 'rulefit':\n",
    "        fitted_model = reg_models[model_name]['model'].fit(X_train, y_train)\n",
    "    else:\n",
    "        fitted_model = reg_models[model_name]['model'].fit(X_train.values, y_train.values, X_test.columns)\n",
    "    y_train_pred = fitted_model.predict(X_train.values)\n",
    "    y_test_pred = fitted_model.predict(X_test.values)\n",
    "    reg_models[model_name]['fitted'] = fitted_model\n",
    "    reg_models[model_name]['preds'] = y_test_pred\n",
    "    reg_models[model_name]['RMSE_train'] = math.sqrt(metrics.mean_squared_error(y_train, y_train_pred))\n",
    "    reg_models[model_name]['RMSE_test'] = math.sqrt(metrics.mean_squared_error(y_test, y_test_pred))\n",
    "    reg_models[model_name]['R2_test'] = metrics.r2_score(y_test, y_test_pred)"
   ]
  },
  {
   "cell_type": "code",
   "execution_count": 23,
   "metadata": {},
   "outputs": [
    {
     "output_type": "execute_result",
     "data": {
      "text/plain": "<class 'statsmodels.iolib.summary.Summary'>\n\"\"\"\n                            OLS Regression Results                            \n==============================================================================\nDep. Variable:             congestion   R-squared:                       0.124\nModel:                            OLS   Adj. R-squared:                  0.124\nMethod:                 Least Squares   F-statistic:                 1.456e+04\nDate:                Sun, 13 Mar 2022   Prob (F-statistic):               0.00\nTime:                        22:32:33   Log-Likelihood:            -3.0118e+06\nNo. Observations:              721509   AIC:                         6.024e+06\nDf Residuals:                  721501   BIC:                         6.024e+06\nDf Model:                           7                                         \nCovariance Type:            nonrobust                                         \n==============================================================================\n                 coef    std err          t      P>|t|      [0.025      0.975]\n------------------------------------------------------------------------------\nx              2.6796      0.024    111.769      0.000       2.633       2.727\ny             -0.8005      0.017    -46.646      0.000      -0.834      -0.767\ndirection     -2.8052      0.010   -274.298      0.000      -2.825      -2.785\nyear           0.0244   4.94e-05    492.686      0.000       0.024       0.024\nmonth          0.0167      0.011      1.525      0.127      -0.005       0.038\nday            0.0141      0.002      6.680      0.000       0.010       0.018\nhour           0.3549      0.003    132.713      0.000       0.350       0.360\nminute     -2.879e-05      0.001     -0.025      0.980      -0.002       0.002\nsecond              0          0        nan        nan           0           0\n==============================================================================\nOmnibus:                     6259.027   Durbin-Watson:                   2.004\nProb(Omnibus):                  0.000   Jarque-Bera (JB):             4478.504\nSkew:                           0.083   Prob(JB):                         0.00\nKurtosis:                       2.651   Cond. No.                          inf\n==============================================================================\n\nNotes:\n[1] Standard Errors assume that the covariance matrix of the errors is correctly specified.\n[2] The smallest eigenvalue is      0. This might indicate that there are\nstrong multicollinearity problems or that the design matrix is singular.\n\"\"\"",
      "text/html": "<table class=\"simpletable\">\n<caption>OLS Regression Results</caption>\n<tr>\n  <th>Dep. Variable:</th>       <td>congestion</td>    <th>  R-squared:         </th>  <td>   0.124</td>  \n</tr>\n<tr>\n  <th>Model:</th>                   <td>OLS</td>       <th>  Adj. R-squared:    </th>  <td>   0.124</td>  \n</tr>\n<tr>\n  <th>Method:</th>             <td>Least Squares</td>  <th>  F-statistic:       </th>  <td>1.456e+04</td> \n</tr>\n<tr>\n  <th>Date:</th>             <td>Sun, 13 Mar 2022</td> <th>  Prob (F-statistic):</th>   <td>  0.00</td>   \n</tr>\n<tr>\n  <th>Time:</th>                 <td>22:32:33</td>     <th>  Log-Likelihood:    </th> <td>-3.0118e+06</td>\n</tr>\n<tr>\n  <th>No. Observations:</th>      <td>721509</td>      <th>  AIC:               </th>  <td>6.024e+06</td> \n</tr>\n<tr>\n  <th>Df Residuals:</th>          <td>721501</td>      <th>  BIC:               </th>  <td>6.024e+06</td> \n</tr>\n<tr>\n  <th>Df Model:</th>              <td>     7</td>      <th>                     </th>      <td> </td>     \n</tr>\n<tr>\n  <th>Covariance Type:</th>      <td>nonrobust</td>    <th>                     </th>      <td> </td>     \n</tr>\n</table>\n<table class=\"simpletable\">\n<tr>\n      <td></td>         <th>coef</th>     <th>std err</th>      <th>t</th>      <th>P>|t|</th>  <th>[0.025</th>    <th>0.975]</th>  \n</tr>\n<tr>\n  <th>x</th>         <td>    2.6796</td> <td>    0.024</td> <td>  111.769</td> <td> 0.000</td> <td>    2.633</td> <td>    2.727</td>\n</tr>\n<tr>\n  <th>y</th>         <td>   -0.8005</td> <td>    0.017</td> <td>  -46.646</td> <td> 0.000</td> <td>   -0.834</td> <td>   -0.767</td>\n</tr>\n<tr>\n  <th>direction</th> <td>   -2.8052</td> <td>    0.010</td> <td> -274.298</td> <td> 0.000</td> <td>   -2.825</td> <td>   -2.785</td>\n</tr>\n<tr>\n  <th>year</th>      <td>    0.0244</td> <td> 4.94e-05</td> <td>  492.686</td> <td> 0.000</td> <td>    0.024</td> <td>    0.024</td>\n</tr>\n<tr>\n  <th>month</th>     <td>    0.0167</td> <td>    0.011</td> <td>    1.525</td> <td> 0.127</td> <td>   -0.005</td> <td>    0.038</td>\n</tr>\n<tr>\n  <th>day</th>       <td>    0.0141</td> <td>    0.002</td> <td>    6.680</td> <td> 0.000</td> <td>    0.010</td> <td>    0.018</td>\n</tr>\n<tr>\n  <th>hour</th>      <td>    0.3549</td> <td>    0.003</td> <td>  132.713</td> <td> 0.000</td> <td>    0.350</td> <td>    0.360</td>\n</tr>\n<tr>\n  <th>minute</th>    <td>-2.879e-05</td> <td>    0.001</td> <td>   -0.025</td> <td> 0.980</td> <td>   -0.002</td> <td>    0.002</td>\n</tr>\n<tr>\n  <th>second</th>    <td>         0</td> <td>        0</td> <td>      nan</td> <td>   nan</td> <td>        0</td> <td>        0</td>\n</tr>\n</table>\n<table class=\"simpletable\">\n<tr>\n  <th>Omnibus:</th>       <td>6259.027</td> <th>  Durbin-Watson:     </th> <td>   2.004</td>\n</tr>\n<tr>\n  <th>Prob(Omnibus):</th>  <td> 0.000</td>  <th>  Jarque-Bera (JB):  </th> <td>4478.504</td>\n</tr>\n<tr>\n  <th>Skew:</th>           <td> 0.083</td>  <th>  Prob(JB):          </th> <td>    0.00</td>\n</tr>\n<tr>\n  <th>Kurtosis:</th>       <td> 2.651</td>  <th>  Cond. No.          </th> <td>     inf</td>\n</tr>\n</table><br/><br/>Notes:<br/>[1] Standard Errors assume that the covariance matrix of the errors is correctly specified.<br/>[2] The smallest eigenvalue is      0. This might indicate that there are<br/>strong multicollinearity problems or that the design matrix is singular."
     },
     "metadata": {},
     "execution_count": 23
    }
   ],
   "source": [
    "linreg_mdl = sm.OLS(y_train, sm.add_constant(X_train))\n",
    "linreg_mdl = linreg_mdl.fit()\n",
    "linreg_mdl.summary()"
   ]
  },
  {
   "cell_type": "markdown",
   "metadata": {},
   "source": [
    "## summayからわかること\n",
    "+ Covariance Type : 共分散の種類（相関関係）、相関関係のレベルがnonrobust\n",
    "今回はnonrobust\n",
    "+ R-squared : 決定係数、目的変数のどれくらいを説明できるかを表す\n",
    "0.9以上\t非常によい  \n",
    "0.7以上0.9未満\tよい  \n",
    "0.5以上0.7未満\tあまりよくない  \n",
    "0.5未満\t悪い  \n",
    "今回は0.124なので悪すぎる\n",
    "+ Adj. R-squared : 自由度調整済み決定係数、\n",
    "+ F-statistic : F値、すべての係数がゼロであるという仮説を検定する場合に使う\n",
    "+ Prob(F-statistic) : F値の現れる確率\n",
    "+ Log-Likelihood : 対数尤度、尤もらしいか否か、絶対値で考える\n",
    "+ AIC : 赤池情報量規準、値が小さいほどよい、相対的な評価として用いる\n",
    "+ BIC : ベイズ情報量規準、上に同じく\n",
    "\n",
    "\n",
    "## 評価指標\n",
    "最小二乗法での結果をまずみる\n",
    "+ RMSE : 小さい方が嬉しい\n",
    "+ R2 : でかいほうが嬉しい\n",
    "\n",
    "精度かなりひどい。"
   ]
  },
  {
   "cell_type": "code",
   "execution_count": 24,
   "metadata": {},
   "outputs": [
    {
     "output_type": "execute_result",
     "data": {
      "text/plain": "<pandas.io.formats.style.Styler at 0x135f28400>",
      "text/html": "<style type=\"text/css\">\n#T_719ff_row0_col0, #T_719ff_row0_col1 {\n  background-color: #26818e;\n  color: #f1f1f1;\n}\n#T_719ff_row0_col2 {\n  background-color: #da5a6a;\n  color: #f1f1f1;\n}\n#T_719ff_row1_col0, #T_719ff_row2_col0 {\n  background-color: #1f9e89;\n  color: #f1f1f1;\n}\n#T_719ff_row1_col1 {\n  background-color: #24868e;\n  color: #f1f1f1;\n}\n#T_719ff_row1_col2 {\n  background-color: #d5546e;\n  color: #f1f1f1;\n}\n#T_719ff_row2_col1 {\n  background-color: #24878e;\n  color: #f1f1f1;\n}\n#T_719ff_row2_col2 {\n  background-color: #d5536f;\n  color: #f1f1f1;\n}\n#T_719ff_row3_col0 {\n  background-color: #60ca60;\n  color: #000000;\n}\n#T_719ff_row3_col1 {\n  background-color: #4ec36b;\n  color: #000000;\n}\n#T_719ff_row3_col2 {\n  background-color: #8e0ca4;\n  color: #f1f1f1;\n}\n#T_719ff_row4_col0 {\n  background-color: #86d549;\n  color: #000000;\n}\n#T_719ff_row4_col1 {\n  background-color: #7cd250;\n  color: #000000;\n}\n#T_719ff_row4_col2 {\n  background-color: #6e00a8;\n  color: #f1f1f1;\n}\n#T_719ff_row5_col0 {\n  background-color: #98d83e;\n  color: #000000;\n}\n#T_719ff_row5_col1 {\n  background-color: #93d741;\n  color: #000000;\n}\n#T_719ff_row5_col2 {\n  background-color: #5c01a6;\n  color: #f1f1f1;\n}\n#T_719ff_row6_col0, #T_719ff_row6_col1, #T_719ff_row7_col0, #T_719ff_row7_col1, #T_719ff_row8_col0, #T_719ff_row8_col1 {\n  background-color: #a8db34;\n  color: #000000;\n}\n#T_719ff_row6_col2, #T_719ff_row7_col2, #T_719ff_row8_col2 {\n  background-color: #4e02a2;\n  color: #f1f1f1;\n}\n</style>\n<table id=\"T_719ff\">\n  <thead>\n    <tr>\n      <th class=\"blank level0\" >&nbsp;</th>\n      <th id=\"T_719ff_level0_col0\" class=\"col_heading level0 col0\" >RMSE_train</th>\n      <th id=\"T_719ff_level0_col1\" class=\"col_heading level0 col1\" >RMSE_test</th>\n      <th id=\"T_719ff_level0_col2\" class=\"col_heading level0 col2\" >R2_test</th>\n    </tr>\n  </thead>\n  <tbody>\n    <tr>\n      <th id=\"T_719ff_level0_row0\" class=\"row_heading level0 row0\" >knn</th>\n      <td id=\"T_719ff_row0_col0\" class=\"data row0 col0\" >9.562820</td>\n      <td id=\"T_719ff_row0_col1\" class=\"data row0 col1\" >11.045617</td>\n      <td id=\"T_719ff_row0_col2\" class=\"data row0 col2\" >0.566932</td>\n    </tr>\n    <tr>\n      <th id=\"T_719ff_level0_row1\" class=\"row_heading level0 row1\" >random_forest</th>\n      <td id=\"T_719ff_row1_col0\" class=\"data row1 col0\" >11.267021</td>\n      <td id=\"T_719ff_row1_col1\" class=\"data row1 col1\" >11.294583</td>\n      <td id=\"T_719ff_row1_col2\" class=\"data row1 col2\" >0.547190</td>\n    </tr>\n    <tr>\n      <th id=\"T_719ff_level0_row2\" class=\"row_heading level0 row2\" >decision_tree</th>\n      <td id=\"T_719ff_row2_col0\" class=\"data row2 col0\" >11.311571</td>\n      <td id=\"T_719ff_row2_col1\" class=\"data row2 col1\" >11.340793</td>\n      <td id=\"T_719ff_row2_col2\" class=\"data row2 col2\" >0.543477</td>\n    </tr>\n    <tr>\n      <th id=\"T_719ff_level0_row3\" class=\"row_heading level0 row3\" >rulefit</th>\n      <td id=\"T_719ff_row3_col0\" class=\"data row3 col0\" >14.110739</td>\n      <td id=\"T_719ff_row3_col1\" class=\"data row3 col1\" >14.125405</td>\n      <td id=\"T_719ff_row3_col2\" class=\"data row3 col2\" >0.291764</td>\n    </tr>\n    <tr>\n      <th id=\"T_719ff_level0_row4\" class=\"row_heading level0 row4\" >linear_poly</th>\n      <td id=\"T_719ff_row4_col0\" class=\"data row4 col0\" >14.998709</td>\n      <td id=\"T_719ff_row4_col1\" class=\"data row4 col1\" >15.001927</td>\n      <td id=\"T_719ff_row4_col2\" class=\"data row4 col2\" >0.201141</td>\n    </tr>\n    <tr>\n      <th id=\"T_719ff_level0_row5\" class=\"row_heading level0 row5\" >linear_interact</th>\n      <td id=\"T_719ff_row5_col0\" class=\"data row5 col0\" >15.402717</td>\n      <td id=\"T_719ff_row5_col1\" class=\"data row5 col1\" >15.400636</td>\n      <td id=\"T_719ff_row5_col2\" class=\"data row5 col2\" >0.158114</td>\n    </tr>\n    <tr>\n      <th id=\"T_719ff_level0_row6\" class=\"row_heading level0 row6\" >ridge</th>\n      <td id=\"T_719ff_row6_col0\" class=\"data row6 col0\" >15.727692</td>\n      <td id=\"T_719ff_row6_col1\" class=\"data row6 col1\" >15.733398</td>\n      <td id=\"T_719ff_row6_col2\" class=\"data row6 col2\" >0.121340</td>\n    </tr>\n    <tr>\n      <th id=\"T_719ff_level0_row7\" class=\"row_heading level0 row7\" >linear</th>\n      <td id=\"T_719ff_row7_col0\" class=\"data row7 col0\" >15.727692</td>\n      <td id=\"T_719ff_row7_col1\" class=\"data row7 col1\" >15.733398</td>\n      <td id=\"T_719ff_row7_col2\" class=\"data row7 col2\" >0.121340</td>\n    </tr>\n    <tr>\n      <th id=\"T_719ff_level0_row8\" class=\"row_heading level0 row8\" >mlp</th>\n      <td id=\"T_719ff_row8_col0\" class=\"data row8 col0\" >15.728127</td>\n      <td id=\"T_719ff_row8_col1\" class=\"data row8 col1\" >15.734121</td>\n      <td id=\"T_719ff_row8_col2\" class=\"data row8 col2\" >0.121259</td>\n    </tr>\n  </tbody>\n</table>\n"
     },
     "metadata": {},
     "execution_count": 24
    }
   ],
   "source": [
    "reg_metrics=pd.DataFrame.from_dict(reg_models,'index')[['RMSE_train','RMSE_test','R2_test']]\n",
    "reg_metrics.sort_values(by='RMSE_test').style.background_gradient(cmap='viridis',low=1,high=0.3,subset=['RMSE_train','RMSE_test']).background_gradient(cmap='plasma',low=0.3,high=1,subset=['R2_test'])"
   ]
  },
  {
   "cell_type": "code",
   "execution_count": 25,
   "metadata": {},
   "outputs": [
    {
     "output_type": "execute_result",
     "data": {
      "text/plain": "<pandas.io.formats.style.Styler at 0x1360e90a0>",
      "text/html": "<style type=\"text/css\">\n#T_88903_row0_col1 {\n  background-color: #440154;\n  color: #f1f1f1;\n}\n#T_88903_row1_col1 {\n  background-color: #277e8e;\n  color: #f1f1f1;\n}\n#T_88903_row2_col1 {\n  background-color: #35b779;\n  color: #f1f1f1;\n}\n#T_88903_row3_col1, #T_88903_row7_col1, #T_88903_row8_col1 {\n  background-color: #31668e;\n  color: #f1f1f1;\n}\n#T_88903_row4_col1, #T_88903_row5_col1 {\n  background-color: #32658e;\n  color: #f1f1f1;\n}\n#T_88903_row6_col1 {\n  background-color: #375b8d;\n  color: #f1f1f1;\n}\n</style>\n<table id=\"T_88903\">\n  <thead>\n    <tr>\n      <th class=\"blank level0\" >&nbsp;</th>\n      <th id=\"T_88903_level0_col0\" class=\"col_heading level0 col0\" >feature</th>\n      <th id=\"T_88903_level0_col1\" class=\"col_heading level0 col1\" >coef</th>\n    </tr>\n  </thead>\n  <tbody>\n    <tr>\n      <th id=\"T_88903_level0_row0\" class=\"row_heading level0 row0\" >0</th>\n      <td id=\"T_88903_row0_col0\" class=\"data row0 col0\" >x</td>\n      <td id=\"T_88903_row0_col1\" class=\"data row0 col1\" >2.679609</td>\n    </tr>\n    <tr>\n      <th id=\"T_88903_level0_row1\" class=\"row_heading level0 row1\" >1</th>\n      <td id=\"T_88903_row1_col0\" class=\"data row1 col0\" >y</td>\n      <td id=\"T_88903_row1_col1\" class=\"data row1 col1\" >-0.800470</td>\n    </tr>\n    <tr>\n      <th id=\"T_88903_level0_row2\" class=\"row_heading level0 row2\" >2</th>\n      <td id=\"T_88903_row2_col0\" class=\"data row2 col0\" >direction</td>\n      <td id=\"T_88903_row2_col1\" class=\"data row2 col1\" >-2.805179</td>\n    </tr>\n    <tr>\n      <th id=\"T_88903_level0_row3\" class=\"row_heading level0 row3\" >3</th>\n      <td id=\"T_88903_row3_col0\" class=\"data row3 col0\" >year</td>\n      <td id=\"T_88903_row3_col1\" class=\"data row3 col1\" >0.000000</td>\n    </tr>\n    <tr>\n      <th id=\"T_88903_level0_row4\" class=\"row_heading level0 row4\" >4</th>\n      <td id=\"T_88903_row4_col0\" class=\"data row4 col0\" >month</td>\n      <td id=\"T_88903_row4_col1\" class=\"data row4 col1\" >0.016651</td>\n    </tr>\n    <tr>\n      <th id=\"T_88903_level0_row5\" class=\"row_heading level0 row5\" >5</th>\n      <td id=\"T_88903_row5_col0\" class=\"data row5 col0\" >day</td>\n      <td id=\"T_88903_row5_col1\" class=\"data row5 col1\" >0.014068</td>\n    </tr>\n    <tr>\n      <th id=\"T_88903_level0_row6\" class=\"row_heading level0 row6\" >6</th>\n      <td id=\"T_88903_row6_col0\" class=\"data row6 col0\" >hour</td>\n      <td id=\"T_88903_row6_col1\" class=\"data row6 col1\" >0.354869</td>\n    </tr>\n    <tr>\n      <th id=\"T_88903_level0_row7\" class=\"row_heading level0 row7\" >7</th>\n      <td id=\"T_88903_row7_col0\" class=\"data row7 col0\" >minute</td>\n      <td id=\"T_88903_row7_col1\" class=\"data row7 col1\" >-0.000029</td>\n    </tr>\n    <tr>\n      <th id=\"T_88903_level0_row8\" class=\"row_heading level0 row8\" >8</th>\n      <td id=\"T_88903_row8_col0\" class=\"data row8 col0\" >second</td>\n      <td id=\"T_88903_row8_col1\" class=\"data row8 col1\" >0.000000</td>\n    </tr>\n  </tbody>\n</table>\n"
     },
     "metadata": {},
     "execution_count": 25
    }
   ],
   "source": [
    "coefs_lm = reg_models['linear']['fitted'].coef_\n",
    "intercept_lm = reg_models['linear']['fitted'].intercept_\n",
    "coef_df = pd.DataFrame({'feature':X_train.columns.values.tolist(),'coef': coefs_lm})\n",
    "coef_df.style.background_gradient(cmap='viridis_r',low=.5, high=0)"
   ]
  },
  {
   "cell_type": "code",
   "execution_count": 26,
   "metadata": {},
   "outputs": [
    {
     "output_type": "execute_result",
     "data": {
      "text/plain": "<pandas.io.formats.style.Styler at 0x135f28b80>",
      "text/html": "<style type=\"text/css\">\n#T_3e124_row0_col1, #T_3e124_row1_col2, #T_3e124_row2_col2, #T_3e124_row3_col1, #T_3e124_row4_col1, #T_3e124_row5_col2, #T_3e124_row6_col1, #T_3e124_row7_col2 {\n  background-color: #472f7d;\n  color: #f1f1f1;\n}\n#T_3e124_row0_col2, #T_3e124_row1_col1, #T_3e124_row2_col1, #T_3e124_row3_col2, #T_3e124_row4_col2, #T_3e124_row5_col1, #T_3e124_row6_col2, #T_3e124_row7_col1 {\n  background-color: #7ad151;\n  color: #000000;\n}\n#T_3e124_row8_col1, #T_3e124_row8_col2 {\n  background-color: #fde725;\n  color: #000000;\n}\n</style>\n<table id=\"T_3e124\">\n  <thead>\n    <tr>\n      <th class=\"blank level0\" >&nbsp;</th>\n      <th id=\"T_3e124_level0_col0\" class=\"col_heading level0 col0\" >feature</th>\n      <th id=\"T_3e124_level0_col1\" class=\"col_heading level0 col1\" >coef_linear</th>\n      <th id=\"T_3e124_level0_col2\" class=\"col_heading level0 col2\" >coef_ridge</th>\n    </tr>\n  </thead>\n  <tbody>\n    <tr>\n      <th id=\"T_3e124_level0_row0\" class=\"row_heading level0 row0\" >0</th>\n      <td id=\"T_3e124_row0_col0\" class=\"data row0 col0\" >x</td>\n      <td id=\"T_3e124_row0_col1\" class=\"data row0 col1\" >2.679609</td>\n      <td id=\"T_3e124_row0_col2\" class=\"data row0 col2\" >2.679602</td>\n    </tr>\n    <tr>\n      <th id=\"T_3e124_level0_row1\" class=\"row_heading level0 row1\" >1</th>\n      <td id=\"T_3e124_row1_col0\" class=\"data row1 col0\" >y</td>\n      <td id=\"T_3e124_row1_col1\" class=\"data row1 col1\" >-0.800470</td>\n      <td id=\"T_3e124_row1_col2\" class=\"data row1 col2\" >-0.800469</td>\n    </tr>\n    <tr>\n      <th id=\"T_3e124_level0_row2\" class=\"row_heading level0 row2\" >2</th>\n      <td id=\"T_3e124_row2_col0\" class=\"data row2 col0\" >direction</td>\n      <td id=\"T_3e124_row2_col1\" class=\"data row2 col1\" >-2.805179</td>\n      <td id=\"T_3e124_row2_col2\" class=\"data row2 col2\" >-2.805177</td>\n    </tr>\n    <tr>\n      <th id=\"T_3e124_level0_row3\" class=\"row_heading level0 row3\" >3</th>\n      <td id=\"T_3e124_row3_col0\" class=\"data row3 col0\" >year</td>\n      <td id=\"T_3e124_row3_col1\" class=\"data row3 col1\" >0.000000</td>\n      <td id=\"T_3e124_row3_col2\" class=\"data row3 col2\" >0.000000</td>\n    </tr>\n    <tr>\n      <th id=\"T_3e124_level0_row4\" class=\"row_heading level0 row4\" >4</th>\n      <td id=\"T_3e124_row4_col0\" class=\"data row4 col0\" >month</td>\n      <td id=\"T_3e124_row4_col1\" class=\"data row4 col1\" >0.016651</td>\n      <td id=\"T_3e124_row4_col2\" class=\"data row4 col2\" >0.016651</td>\n    </tr>\n    <tr>\n      <th id=\"T_3e124_level0_row5\" class=\"row_heading level0 row5\" >5</th>\n      <td id=\"T_3e124_row5_col0\" class=\"data row5 col0\" >day</td>\n      <td id=\"T_3e124_row5_col1\" class=\"data row5 col1\" >0.014068</td>\n      <td id=\"T_3e124_row5_col2\" class=\"data row5 col2\" >0.014068</td>\n    </tr>\n    <tr>\n      <th id=\"T_3e124_level0_row6\" class=\"row_heading level0 row6\" >6</th>\n      <td id=\"T_3e124_row6_col0\" class=\"data row6 col0\" >hour</td>\n      <td id=\"T_3e124_row6_col1\" class=\"data row6 col1\" >0.354869</td>\n      <td id=\"T_3e124_row6_col2\" class=\"data row6 col2\" >0.354869</td>\n    </tr>\n    <tr>\n      <th id=\"T_3e124_level0_row7\" class=\"row_heading level0 row7\" >7</th>\n      <td id=\"T_3e124_row7_col0\" class=\"data row7 col0\" >minute</td>\n      <td id=\"T_3e124_row7_col1\" class=\"data row7 col1\" >-0.000029</td>\n      <td id=\"T_3e124_row7_col2\" class=\"data row7 col2\" >-0.000029</td>\n    </tr>\n    <tr>\n      <th id=\"T_3e124_level0_row8\" class=\"row_heading level0 row8\" >8</th>\n      <td id=\"T_3e124_row8_col0\" class=\"data row8 col0\" >second</td>\n      <td id=\"T_3e124_row8_col1\" class=\"data row8 col1\" >0.000000</td>\n      <td id=\"T_3e124_row8_col2\" class=\"data row8 col2\" >0.000000</td>\n    </tr>\n  </tbody>\n</table>\n"
     },
     "metadata": {},
     "execution_count": 26
    }
   ],
   "source": [
    "coefs_ridge = reg_models['ridge']['fitted'].coef_\n",
    "coef_ridge_df = pd.DataFrame({'feature':X_train.columns.values.tolist(),'coef_linear': coefs_lm,'coef_ridge': coefs_ridge})\n",
    "coef_ridge_df.style.background_gradient(cmap='viridis_r', low=0.3, high=0.2, axis=1)"
   ]
  },
  {
   "cell_type": "markdown",
   "metadata": {},
   "source": [
    "# 本質的に解釈可能なモデル\n",
    "## 線形回帰の仮定\n",
    "### 正規性\n",
    "日付特徴量が正規分布しているわけがない…\n",
    "### 独立性\n",
    "日付特徴量は独立してないなぁ…\n",
    "### 多重共線性\n",
    "相関行列、許容誤差測定、分散拡大係数でテストできる。許容誤差測定はよくわからなかったから、分散拡大係数でテストする。\n",
    "\n",
    "#### 分散拡大係数\n",
    "ある説明変数がそれ以外の説明変数にどれだけ説明されるかを示す値。VIFは説明変数の数だけ求められることになる。\n",
    "説明変数間の相関係数(相関係数は共分散を)を使って求める。\n",
    "\n",
    "VIF=1/(1-r^2)\n",
    "\n",
    "rは相関係数。\n"
   ]
  },
  {
   "cell_type": "code",
   "execution_count": 27,
   "metadata": {},
   "outputs": [
    {
     "output_type": "stream",
     "name": "stdout",
     "text": "VIF Factor   features\n0        1.08          x\n1        1.02          y\n2        1.09  direction\n3       28.26       year\n4        1.00      month\n5        1.00        day\n6        1.00       hour\n7        1.00     minute\n8         NaN     second\n"
    },
    {
     "output_type": "execute_result",
     "data": {
      "text/plain": "[<matplotlib.lines.Line2D at 0x13617c3a0>]"
     },
     "metadata": {},
     "execution_count": 27
    },
    {
     "output_type": "display_data",
     "data": {
      "text/plain": "<Figure size 432x288 with 1 Axes>",
      "image/svg+xml": "<?xml version=\"1.0\" encoding=\"utf-8\" standalone=\"no\"?>\n<!DOCTYPE svg PUBLIC \"-//W3C//DTD SVG 1.1//EN\"\n  \"http://www.w3.org/Graphics/SVG/1.1/DTD/svg11.dtd\">\n<svg xmlns:xlink=\"http://www.w3.org/1999/xlink\" width=\"368.925pt\" height=\"248.518125pt\" viewBox=\"0 0 368.925 248.518125\" xmlns=\"http://www.w3.org/2000/svg\" version=\"1.1\">\n <metadata>\n  <rdf:RDF xmlns:dc=\"http://purl.org/dc/elements/1.1/\" xmlns:cc=\"http://creativecommons.org/ns#\" xmlns:rdf=\"http://www.w3.org/1999/02/22-rdf-syntax-ns#\">\n   <cc:Work>\n    <dc:type rdf:resource=\"http://purl.org/dc/dcmitype/StillImage\"/>\n    <dc:date>2022-03-13T22:32:36.763560</dc:date>\n    <dc:format>image/svg+xml</dc:format>\n    <dc:creator>\n     <cc:Agent>\n      <dc:title>Matplotlib v3.5.1, https://matplotlib.org/</dc:title>\n     </cc:Agent>\n    </dc:creator>\n   </cc:Work>\n  </rdf:RDF>\n </metadata>\n <defs>\n  <style type=\"text/css\">*{stroke-linejoin: round; stroke-linecap: butt}</style>\n </defs>\n <g id=\"figure_1\">\n  <g id=\"patch_1\">\n   <path d=\"M -0 248.518125 \nL 368.925 248.518125 \nL 368.925 0 \nL -0 0 \nL -0 248.518125 \nz\n\" style=\"fill: none\"/>\n  </g>\n  <g id=\"axes_1\">\n   <g id=\"patch_2\">\n    <path d=\"M 26.925 224.64 \nL 361.725 224.64 \nL 361.725 7.2 \nL 26.925 7.2 \nz\n\" style=\"fill: #ffffff\"/>\n   </g>\n   <g id=\"matplotlib.axis_1\">\n    <g id=\"xtick_1\">\n     <g id=\"line2d_1\">\n      <defs>\n       <path id=\"mf0330ecf77\" d=\"M 0 0 \nL 0 3.5 \n\" style=\"stroke: #000000; stroke-width: 0.8\"/>\n      </defs>\n      <g>\n       <use xlink:href=\"#mf0330ecf77\" x=\"42.143182\" y=\"224.64\" style=\"stroke: #000000; stroke-width: 0.8\"/>\n      </g>\n     </g>\n     <g id=\"text_1\">\n      <!-- 0 -->\n      <g transform=\"translate(38.961932 239.238438)scale(0.1 -0.1)\">\n       <defs>\n        <path id=\"DejaVuSans-30\" d=\"M 2034 4250 \nQ 1547 4250 1301 3770 \nQ 1056 3291 1056 2328 \nQ 1056 1369 1301 889 \nQ 1547 409 2034 409 \nQ 2525 409 2770 889 \nQ 3016 1369 3016 2328 \nQ 3016 3291 2770 3770 \nQ 2525 4250 2034 4250 \nz\nM 2034 4750 \nQ 2819 4750 3233 4129 \nQ 3647 3509 3647 2328 \nQ 3647 1150 3233 529 \nQ 2819 -91 2034 -91 \nQ 1250 -91 836 529 \nQ 422 1150 422 2328 \nQ 422 3509 836 4129 \nQ 1250 4750 2034 4750 \nz\n\" transform=\"scale(0.015625)\"/>\n       </defs>\n       <use xlink:href=\"#DejaVuSans-30\"/>\n      </g>\n     </g>\n    </g>\n    <g id=\"xtick_2\">\n     <g id=\"line2d_2\">\n      <g>\n       <use xlink:href=\"#mf0330ecf77\" x=\"85.623701\" y=\"224.64\" style=\"stroke: #000000; stroke-width: 0.8\"/>\n      </g>\n     </g>\n     <g id=\"text_2\">\n      <!-- 1 -->\n      <g transform=\"translate(82.442451 239.238438)scale(0.1 -0.1)\">\n       <defs>\n        <path id=\"DejaVuSans-31\" d=\"M 794 531 \nL 1825 531 \nL 1825 4091 \nL 703 3866 \nL 703 4441 \nL 1819 4666 \nL 2450 4666 \nL 2450 531 \nL 3481 531 \nL 3481 0 \nL 794 0 \nL 794 531 \nz\n\" transform=\"scale(0.015625)\"/>\n       </defs>\n       <use xlink:href=\"#DejaVuSans-31\"/>\n      </g>\n     </g>\n    </g>\n    <g id=\"xtick_3\">\n     <g id=\"line2d_3\">\n      <g>\n       <use xlink:href=\"#mf0330ecf77\" x=\"129.104221\" y=\"224.64\" style=\"stroke: #000000; stroke-width: 0.8\"/>\n      </g>\n     </g>\n     <g id=\"text_3\">\n      <!-- 2 -->\n      <g transform=\"translate(125.922971 239.238438)scale(0.1 -0.1)\">\n       <defs>\n        <path id=\"DejaVuSans-32\" d=\"M 1228 531 \nL 3431 531 \nL 3431 0 \nL 469 0 \nL 469 531 \nQ 828 903 1448 1529 \nQ 2069 2156 2228 2338 \nQ 2531 2678 2651 2914 \nQ 2772 3150 2772 3378 \nQ 2772 3750 2511 3984 \nQ 2250 4219 1831 4219 \nQ 1534 4219 1204 4116 \nQ 875 4013 500 3803 \nL 500 4441 \nQ 881 4594 1212 4672 \nQ 1544 4750 1819 4750 \nQ 2544 4750 2975 4387 \nQ 3406 4025 3406 3419 \nQ 3406 3131 3298 2873 \nQ 3191 2616 2906 2266 \nQ 2828 2175 2409 1742 \nQ 1991 1309 1228 531 \nz\n\" transform=\"scale(0.015625)\"/>\n       </defs>\n       <use xlink:href=\"#DejaVuSans-32\"/>\n      </g>\n     </g>\n    </g>\n    <g id=\"xtick_4\">\n     <g id=\"line2d_4\">\n      <g>\n       <use xlink:href=\"#mf0330ecf77\" x=\"172.58474\" y=\"224.64\" style=\"stroke: #000000; stroke-width: 0.8\"/>\n      </g>\n     </g>\n     <g id=\"text_4\">\n      <!-- 3 -->\n      <g transform=\"translate(169.40349 239.238438)scale(0.1 -0.1)\">\n       <defs>\n        <path id=\"DejaVuSans-33\" d=\"M 2597 2516 \nQ 3050 2419 3304 2112 \nQ 3559 1806 3559 1356 \nQ 3559 666 3084 287 \nQ 2609 -91 1734 -91 \nQ 1441 -91 1130 -33 \nQ 819 25 488 141 \nL 488 750 \nQ 750 597 1062 519 \nQ 1375 441 1716 441 \nQ 2309 441 2620 675 \nQ 2931 909 2931 1356 \nQ 2931 1769 2642 2001 \nQ 2353 2234 1838 2234 \nL 1294 2234 \nL 1294 2753 \nL 1863 2753 \nQ 2328 2753 2575 2939 \nQ 2822 3125 2822 3475 \nQ 2822 3834 2567 4026 \nQ 2313 4219 1838 4219 \nQ 1578 4219 1281 4162 \nQ 984 4106 628 3988 \nL 628 4550 \nQ 988 4650 1302 4700 \nQ 1616 4750 1894 4750 \nQ 2613 4750 3031 4423 \nQ 3450 4097 3450 3541 \nQ 3450 3153 3228 2886 \nQ 3006 2619 2597 2516 \nz\n\" transform=\"scale(0.015625)\"/>\n       </defs>\n       <use xlink:href=\"#DejaVuSans-33\"/>\n      </g>\n     </g>\n    </g>\n    <g id=\"xtick_5\">\n     <g id=\"line2d_5\">\n      <g>\n       <use xlink:href=\"#mf0330ecf77\" x=\"216.06526\" y=\"224.64\" style=\"stroke: #000000; stroke-width: 0.8\"/>\n      </g>\n     </g>\n     <g id=\"text_5\">\n      <!-- 4 -->\n      <g transform=\"translate(212.88401 239.238438)scale(0.1 -0.1)\">\n       <defs>\n        <path id=\"DejaVuSans-34\" d=\"M 2419 4116 \nL 825 1625 \nL 2419 1625 \nL 2419 4116 \nz\nM 2253 4666 \nL 3047 4666 \nL 3047 1625 \nL 3713 1625 \nL 3713 1100 \nL 3047 1100 \nL 3047 0 \nL 2419 0 \nL 2419 1100 \nL 313 1100 \nL 313 1709 \nL 2253 4666 \nz\n\" transform=\"scale(0.015625)\"/>\n       </defs>\n       <use xlink:href=\"#DejaVuSans-34\"/>\n      </g>\n     </g>\n    </g>\n    <g id=\"xtick_6\">\n     <g id=\"line2d_6\">\n      <g>\n       <use xlink:href=\"#mf0330ecf77\" x=\"259.545779\" y=\"224.64\" style=\"stroke: #000000; stroke-width: 0.8\"/>\n      </g>\n     </g>\n     <g id=\"text_6\">\n      <!-- 5 -->\n      <g transform=\"translate(256.364529 239.238438)scale(0.1 -0.1)\">\n       <defs>\n        <path id=\"DejaVuSans-35\" d=\"M 691 4666 \nL 3169 4666 \nL 3169 4134 \nL 1269 4134 \nL 1269 2991 \nQ 1406 3038 1543 3061 \nQ 1681 3084 1819 3084 \nQ 2600 3084 3056 2656 \nQ 3513 2228 3513 1497 \nQ 3513 744 3044 326 \nQ 2575 -91 1722 -91 \nQ 1428 -91 1123 -41 \nQ 819 9 494 109 \nL 494 744 \nQ 775 591 1075 516 \nQ 1375 441 1709 441 \nQ 2250 441 2565 725 \nQ 2881 1009 2881 1497 \nQ 2881 1984 2565 2268 \nQ 2250 2553 1709 2553 \nQ 1456 2553 1204 2497 \nQ 953 2441 691 2322 \nL 691 4666 \nz\n\" transform=\"scale(0.015625)\"/>\n       </defs>\n       <use xlink:href=\"#DejaVuSans-35\"/>\n      </g>\n     </g>\n    </g>\n    <g id=\"xtick_7\">\n     <g id=\"line2d_7\">\n      <g>\n       <use xlink:href=\"#mf0330ecf77\" x=\"303.026299\" y=\"224.64\" style=\"stroke: #000000; stroke-width: 0.8\"/>\n      </g>\n     </g>\n     <g id=\"text_7\">\n      <!-- 6 -->\n      <g transform=\"translate(299.845049 239.238438)scale(0.1 -0.1)\">\n       <defs>\n        <path id=\"DejaVuSans-36\" d=\"M 2113 2584 \nQ 1688 2584 1439 2293 \nQ 1191 2003 1191 1497 \nQ 1191 994 1439 701 \nQ 1688 409 2113 409 \nQ 2538 409 2786 701 \nQ 3034 994 3034 1497 \nQ 3034 2003 2786 2293 \nQ 2538 2584 2113 2584 \nz\nM 3366 4563 \nL 3366 3988 \nQ 3128 4100 2886 4159 \nQ 2644 4219 2406 4219 \nQ 1781 4219 1451 3797 \nQ 1122 3375 1075 2522 \nQ 1259 2794 1537 2939 \nQ 1816 3084 2150 3084 \nQ 2853 3084 3261 2657 \nQ 3669 2231 3669 1497 \nQ 3669 778 3244 343 \nQ 2819 -91 2113 -91 \nQ 1303 -91 875 529 \nQ 447 1150 447 2328 \nQ 447 3434 972 4092 \nQ 1497 4750 2381 4750 \nQ 2619 4750 2861 4703 \nQ 3103 4656 3366 4563 \nz\n\" transform=\"scale(0.015625)\"/>\n       </defs>\n       <use xlink:href=\"#DejaVuSans-36\"/>\n      </g>\n     </g>\n    </g>\n    <g id=\"xtick_8\">\n     <g id=\"line2d_8\">\n      <g>\n       <use xlink:href=\"#mf0330ecf77\" x=\"346.506818\" y=\"224.64\" style=\"stroke: #000000; stroke-width: 0.8\"/>\n      </g>\n     </g>\n     <g id=\"text_8\">\n      <!-- 7 -->\n      <g transform=\"translate(343.325568 239.238438)scale(0.1 -0.1)\">\n       <defs>\n        <path id=\"DejaVuSans-37\" d=\"M 525 4666 \nL 3525 4666 \nL 3525 4397 \nL 1831 0 \nL 1172 0 \nL 2766 4134 \nL 525 4134 \nL 525 4666 \nz\n\" transform=\"scale(0.015625)\"/>\n       </defs>\n       <use xlink:href=\"#DejaVuSans-37\"/>\n      </g>\n     </g>\n    </g>\n   </g>\n   <g id=\"matplotlib.axis_2\">\n    <g id=\"ytick_1\">\n     <g id=\"line2d_9\">\n      <defs>\n       <path id=\"mcb3610b2f7\" d=\"M 0 0 \nL -3.5 0 \n\" style=\"stroke: #000000; stroke-width: 0.8\"/>\n      </defs>\n      <g>\n       <use xlink:href=\"#mcb3610b2f7\" x=\"26.925\" y=\"222.009066\" style=\"stroke: #000000; stroke-width: 0.8\"/>\n      </g>\n     </g>\n     <g id=\"text_9\">\n      <!-- 0 -->\n      <g transform=\"translate(13.5625 225.808285)scale(0.1 -0.1)\">\n       <use xlink:href=\"#DejaVuSans-30\"/>\n      </g>\n     </g>\n    </g>\n    <g id=\"ytick_2\">\n     <g id=\"line2d_10\">\n      <g>\n       <use xlink:href=\"#mcb3610b2f7\" x=\"26.925\" y=\"185.745581\" style=\"stroke: #000000; stroke-width: 0.8\"/>\n      </g>\n     </g>\n     <g id=\"text_10\">\n      <!-- 5 -->\n      <g transform=\"translate(13.5625 189.544799)scale(0.1 -0.1)\">\n       <use xlink:href=\"#DejaVuSans-35\"/>\n      </g>\n     </g>\n    </g>\n    <g id=\"ytick_3\">\n     <g id=\"line2d_11\">\n      <g>\n       <use xlink:href=\"#mcb3610b2f7\" x=\"26.925\" y=\"149.482095\" style=\"stroke: #000000; stroke-width: 0.8\"/>\n      </g>\n     </g>\n     <g id=\"text_11\">\n      <!-- 10 -->\n      <g transform=\"translate(7.2 153.281314)scale(0.1 -0.1)\">\n       <use xlink:href=\"#DejaVuSans-31\"/>\n       <use xlink:href=\"#DejaVuSans-30\" x=\"63.623047\"/>\n      </g>\n     </g>\n    </g>\n    <g id=\"ytick_4\">\n     <g id=\"line2d_12\">\n      <g>\n       <use xlink:href=\"#mcb3610b2f7\" x=\"26.925\" y=\"113.21861\" style=\"stroke: #000000; stroke-width: 0.8\"/>\n      </g>\n     </g>\n     <g id=\"text_12\">\n      <!-- 15 -->\n      <g transform=\"translate(7.2 117.017829)scale(0.1 -0.1)\">\n       <use xlink:href=\"#DejaVuSans-31\"/>\n       <use xlink:href=\"#DejaVuSans-35\" x=\"63.623047\"/>\n      </g>\n     </g>\n    </g>\n    <g id=\"ytick_5\">\n     <g id=\"line2d_13\">\n      <g>\n       <use xlink:href=\"#mcb3610b2f7\" x=\"26.925\" y=\"76.955125\" style=\"stroke: #000000; stroke-width: 0.8\"/>\n      </g>\n     </g>\n     <g id=\"text_13\">\n      <!-- 20 -->\n      <g transform=\"translate(7.2 80.754343)scale(0.1 -0.1)\">\n       <use xlink:href=\"#DejaVuSans-32\"/>\n       <use xlink:href=\"#DejaVuSans-30\" x=\"63.623047\"/>\n      </g>\n     </g>\n    </g>\n    <g id=\"ytick_6\">\n     <g id=\"line2d_14\">\n      <g>\n       <use xlink:href=\"#mcb3610b2f7\" x=\"26.925\" y=\"40.691639\" style=\"stroke: #000000; stroke-width: 0.8\"/>\n      </g>\n     </g>\n     <g id=\"text_14\">\n      <!-- 25 -->\n      <g transform=\"translate(7.2 44.490858)scale(0.1 -0.1)\">\n       <use xlink:href=\"#DejaVuSans-32\"/>\n       <use xlink:href=\"#DejaVuSans-35\" x=\"63.623047\"/>\n      </g>\n     </g>\n    </g>\n   </g>\n   <g id=\"line2d_15\">\n    <path d=\"M 42.143182 214.199714 \nL 85.623701 214.613196 \nL 129.104221 214.112519 \nL 172.58474 17.083636 \nL 216.06526 214.75611 \nL 259.545779 214.756166 \nL 303.026299 214.756247 \nL 346.506818 214.756364 \n\" clip-path=\"url(#p41beeb8ea1)\" style=\"fill: none; stroke: #1f77b4; stroke-width: 1.5; stroke-linecap: square\"/>\n   </g>\n   <g id=\"patch_3\">\n    <path d=\"M 26.925 224.64 \nL 26.925 7.2 \n\" style=\"fill: none; stroke: #000000; stroke-width: 0.8; stroke-linejoin: miter; stroke-linecap: square\"/>\n   </g>\n   <g id=\"patch_4\">\n    <path d=\"M 361.725 224.64 \nL 361.725 7.2 \n\" style=\"fill: none; stroke: #000000; stroke-width: 0.8; stroke-linejoin: miter; stroke-linecap: square\"/>\n   </g>\n   <g id=\"patch_5\">\n    <path d=\"M 26.925 224.64 \nL 361.725 224.64 \n\" style=\"fill: none; stroke: #000000; stroke-width: 0.8; stroke-linejoin: miter; stroke-linecap: square\"/>\n   </g>\n   <g id=\"patch_6\">\n    <path d=\"M 26.925 7.2 \nL 361.725 7.2 \n\" style=\"fill: none; stroke: #000000; stroke-width: 0.8; stroke-linejoin: miter; stroke-linecap: square\"/>\n   </g>\n  </g>\n </g>\n <defs>\n  <clipPath id=\"p41beeb8ea1\">\n   <rect x=\"26.925\" y=\"7.2\" width=\"334.8\" height=\"217.44\"/>\n  </clipPath>\n </defs>\n</svg>\n",
      "image/png": "[encoded data removed]"
     },
     "metadata": {
      "needs_background": "light"
     }
    }
   ],
   "source": [
    "from statsmodels.stats.outliers_influence import variance_inflation_factor\n",
    "import matplotlib.pyplot as plt\n",
    "\n",
    "vif = pd.DataFrame()\n",
    "vif[\"VIF Factor\"] = [variance_inflation_factor(X_train.values, i) for i in range(X_train.shape[1])]\n",
    "vif[\"features\"] = X_train.columns\n",
    "\n",
    "print(vif)\n",
    "\n",
    "plt.plot(vif[\"VIF Factor\"])"
   ]
  },
  {
   "cell_type": "markdown",
   "metadata": {},
   "source": [
    "### 等分散性"
   ]
  },
  {
   "cell_type": "markdown",
   "metadata": {},
   "source": [
    "## いくつか特徴量を落とす"
   ]
  },
  {
   "cell_type": "code",
   "execution_count": 28,
   "metadata": {},
   "outputs": [
    {
     "output_type": "execute_result",
     "data": {
      "text/plain": "   row_id  x  y  direction  congestion  year  month  day  hour  minute  second\n0       0  0  0          0          70  1991      4    1     0       0       0\n1       1  0  0          1          49  1991      4    1     0       0       0\n2       2  0  0          2          24  1991      4    1     0       0       0\n3       3  0  1          0          18  1991      4    1     0       0       0\n4       4  0  1          1          60  1991      4    1     0       0       0",
      "text/html": "<div>\n<style scoped>\n    .dataframe tbody tr th:only-of-type {\n        vertical-align: middle;\n    }\n\n    .dataframe tbody tr th {\n        vertical-align: top;\n    }\n\n    .dataframe thead th {\n        text-align: right;\n    }\n</style>\n<table border=\"1\" class=\"dataframe\">\n  <thead>\n    <tr style=\"text-align: right;\">\n      <th></th>\n      <th>row_id</th>\n      <th>x</th>\n      <th>y</th>\n      <th>direction</th>\n      <th>congestion</th>\n      <th>year</th>\n      <th>month</th>\n      <th>day</th>\n      <th>hour</th>\n      <th>minute</th>\n      <th>second</th>\n    </tr>\n  </thead>\n  <tbody>\n    <tr>\n      <th>0</th>\n      <td>0</td>\n      <td>0</td>\n      <td>0</td>\n      <td>0</td>\n      <td>70</td>\n      <td>1991</td>\n      <td>4</td>\n      <td>1</td>\n      <td>0</td>\n      <td>0</td>\n      <td>0</td>\n    </tr>\n    <tr>\n      <th>1</th>\n      <td>1</td>\n      <td>0</td>\n      <td>0</td>\n      <td>1</td>\n      <td>49</td>\n      <td>1991</td>\n      <td>4</td>\n      <td>1</td>\n      <td>0</td>\n      <td>0</td>\n      <td>0</td>\n    </tr>\n    <tr>\n      <th>2</th>\n      <td>2</td>\n      <td>0</td>\n      <td>0</td>\n      <td>2</td>\n      <td>24</td>\n      <td>1991</td>\n      <td>4</td>\n      <td>1</td>\n      <td>0</td>\n      <td>0</td>\n      <td>0</td>\n    </tr>\n    <tr>\n      <th>3</th>\n      <td>3</td>\n      <td>0</td>\n      <td>1</td>\n      <td>0</td>\n      <td>18</td>\n      <td>1991</td>\n      <td>4</td>\n      <td>1</td>\n      <td>0</td>\n      <td>0</td>\n      <td>0</td>\n    </tr>\n    <tr>\n      <th>4</th>\n      <td>4</td>\n      <td>0</td>\n      <td>1</td>\n      <td>1</td>\n      <td>60</td>\n      <td>1991</td>\n      <td>4</td>\n      <td>1</td>\n      <td>0</td>\n      <td>0</td>\n      <td>0</td>\n    </tr>\n  </tbody>\n</table>\n</div>"
     },
     "metadata": {},
     "execution_count": 28
    }
   ],
   "source": [
    "train.head()"
   ]
  },
  {
   "cell_type": "code",
   "execution_count": 53,
   "metadata": {},
   "outputs": [],
   "source": [
    "y_drop=train['congestion']\n",
    "X_drop=train.drop(['congestion','direction','x','y','row_id','year','month','day','minute','second'],axis=1)"
   ]
  },
  {
   "cell_type": "code",
   "execution_count": 54,
   "metadata": {},
   "outputs": [],
   "source": [
    "X_train, X_test, y_train, y_test =train_test_split(X_drop, y_drop, test_size=0.15, random_state=9)"
   ]
  },
  {
   "cell_type": "code",
   "execution_count": 55,
   "metadata": {},
   "outputs": [
    {
     "output_type": "execute_result",
     "data": {
      "text/plain": "<class 'statsmodels.iolib.summary.Summary'>\n\"\"\"\n                            OLS Regression Results                            \n==============================================================================\nDep. Variable:             congestion   R-squared:                       0.021\nModel:                            OLS   Adj. R-squared:                  0.021\nMethod:                 Least Squares   F-statistic:                 1.583e+04\nDate:                Sun, 13 Mar 2022   Prob (F-statistic):               0.00\nTime:                        22:41:28   Log-Likelihood:            -3.0517e+06\nNo. Observations:              721509   AIC:                         6.103e+06\nDf Residuals:                  721507   BIC:                         6.103e+06\nDf Model:                           1                                         \nCovariance Type:            nonrobust                                         \n==============================================================================\n                 coef    std err          t      P>|t|      [0.025      0.975]\n------------------------------------------------------------------------------\nconst         43.7338      0.038   1154.222      0.000      43.659      43.808\nhour           0.3555      0.003    125.800      0.000       0.350       0.361\n==============================================================================\nOmnibus:                    17198.855   Durbin-Watson:                   2.005\nProb(Omnibus):                  0.000   Jarque-Bera (JB):             8992.988\nSkew:                           0.053   Prob(JB):                         0.00\nKurtosis:                       2.463   Cond. No.                         26.1\n==============================================================================\n\nNotes:\n[1] Standard Errors assume that the covariance matrix of the errors is correctly specified.\n\"\"\"",
      "text/html": "<table class=\"simpletable\">\n<caption>OLS Regression Results</caption>\n<tr>\n  <th>Dep. Variable:</th>       <td>congestion</td>    <th>  R-squared:         </th>  <td>   0.021</td>  \n</tr>\n<tr>\n  <th>Model:</th>                   <td>OLS</td>       <th>  Adj. R-squared:    </th>  <td>   0.021</td>  \n</tr>\n<tr>\n  <th>Method:</th>             <td>Least Squares</td>  <th>  F-statistic:       </th>  <td>1.583e+04</td> \n</tr>\n<tr>\n  <th>Date:</th>             <td>Sun, 13 Mar 2022</td> <th>  Prob (F-statistic):</th>   <td>  0.00</td>   \n</tr>\n<tr>\n  <th>Time:</th>                 <td>22:41:28</td>     <th>  Log-Likelihood:    </th> <td>-3.0517e+06</td>\n</tr>\n<tr>\n  <th>No. Observations:</th>      <td>721509</td>      <th>  AIC:               </th>  <td>6.103e+06</td> \n</tr>\n<tr>\n  <th>Df Residuals:</th>          <td>721507</td>      <th>  BIC:               </th>  <td>6.103e+06</td> \n</tr>\n<tr>\n  <th>Df Model:</th>              <td>     1</td>      <th>                     </th>      <td> </td>     \n</tr>\n<tr>\n  <th>Covariance Type:</th>      <td>nonrobust</td>    <th>                     </th>      <td> </td>     \n</tr>\n</table>\n<table class=\"simpletable\">\n<tr>\n    <td></td>       <th>coef</th>     <th>std err</th>      <th>t</th>      <th>P>|t|</th>  <th>[0.025</th>    <th>0.975]</th>  \n</tr>\n<tr>\n  <th>const</th> <td>   43.7338</td> <td>    0.038</td> <td> 1154.222</td> <td> 0.000</td> <td>   43.659</td> <td>   43.808</td>\n</tr>\n<tr>\n  <th>hour</th>  <td>    0.3555</td> <td>    0.003</td> <td>  125.800</td> <td> 0.000</td> <td>    0.350</td> <td>    0.361</td>\n</tr>\n</table>\n<table class=\"simpletable\">\n<tr>\n  <th>Omnibus:</th>       <td>17198.855</td> <th>  Durbin-Watson:     </th> <td>   2.005</td>\n</tr>\n<tr>\n  <th>Prob(Omnibus):</th>  <td> 0.000</td>   <th>  Jarque-Bera (JB):  </th> <td>8992.988</td>\n</tr>\n<tr>\n  <th>Skew:</th>           <td> 0.053</td>   <th>  Prob(JB):          </th> <td>    0.00</td>\n</tr>\n<tr>\n  <th>Kurtosis:</th>       <td> 2.463</td>   <th>  Cond. No.          </th> <td>    26.1</td>\n</tr>\n</table><br/><br/>Notes:<br/>[1] Standard Errors assume that the covariance matrix of the errors is correctly specified."
     },
     "metadata": {},
     "execution_count": 55
    }
   ],
   "source": [
    "linreg_mdl = sm.OLS(y_train, sm.add_constant(X_train))\n",
    "linreg_mdl = linreg_mdl.fit()\n",
    "linreg_mdl.summary()"
   ]
  },
  {
   "cell_type": "code",
   "execution_count": 56,
   "metadata": {},
   "outputs": [
    {
     "output_type": "error",
     "ename": "ValueError",
     "evalue": "zero-size array to reduction operation maximum which has no identity",
     "traceback": [
      "\u001b[0;31m---------------------------------------------------------------------------\u001b[0m",
      "\u001b[0;31mValueError\u001b[0m                                Traceback (most recent call last)",
      "Input \u001b[0;32mIn [56]\u001b[0m, in \u001b[0;36m<cell line: 2>\u001b[0;34m()\u001b[0m\n\u001b[1;32m      1\u001b[0m vif \u001b[38;5;241m=\u001b[39m pd\u001b[38;5;241m.\u001b[39mDataFrame()\n\u001b[0;32m----> 2\u001b[0m vif[\u001b[38;5;124m\"\u001b[39m\u001b[38;5;124mVIF Factor\u001b[39m\u001b[38;5;124m\"\u001b[39m] \u001b[38;5;241m=\u001b[39m [variance_inflation_factor(X_train\u001b[38;5;241m.\u001b[39mvalues, i) \u001b[38;5;28;01mfor\u001b[39;00m i \u001b[38;5;129;01min\u001b[39;00m \u001b[38;5;28mrange\u001b[39m(X_train\u001b[38;5;241m.\u001b[39mshape[\u001b[38;5;241m1\u001b[39m])]\n\u001b[1;32m      3\u001b[0m vif[\u001b[38;5;124m\"\u001b[39m\u001b[38;5;124mfeatures\u001b[39m\u001b[38;5;124m\"\u001b[39m] \u001b[38;5;241m=\u001b[39m X_train\u001b[38;5;241m.\u001b[39mcolumns\n\u001b[1;32m      5\u001b[0m \u001b[38;5;28mprint\u001b[39m(vif)\n",
      "Input \u001b[0;32mIn [56]\u001b[0m, in \u001b[0;36m<listcomp>\u001b[0;34m(.0)\u001b[0m\n\u001b[1;32m      1\u001b[0m vif \u001b[38;5;241m=\u001b[39m pd\u001b[38;5;241m.\u001b[39mDataFrame()\n\u001b[0;32m----> 2\u001b[0m vif[\u001b[38;5;124m\"\u001b[39m\u001b[38;5;124mVIF Factor\u001b[39m\u001b[38;5;124m\"\u001b[39m] \u001b[38;5;241m=\u001b[39m [\u001b[43mvariance_inflation_factor\u001b[49m\u001b[43m(\u001b[49m\u001b[43mX_train\u001b[49m\u001b[38;5;241;43m.\u001b[39;49m\u001b[43mvalues\u001b[49m\u001b[43m,\u001b[49m\u001b[43m \u001b[49m\u001b[43mi\u001b[49m\u001b[43m)\u001b[49m \u001b[38;5;28;01mfor\u001b[39;00m i \u001b[38;5;129;01min\u001b[39;00m \u001b[38;5;28mrange\u001b[39m(X_train\u001b[38;5;241m.\u001b[39mshape[\u001b[38;5;241m1\u001b[39m])]\n\u001b[1;32m      3\u001b[0m vif[\u001b[38;5;124m\"\u001b[39m\u001b[38;5;124mfeatures\u001b[39m\u001b[38;5;124m\"\u001b[39m] \u001b[38;5;241m=\u001b[39m X_train\u001b[38;5;241m.\u001b[39mcolumns\n\u001b[1;32m      5\u001b[0m \u001b[38;5;28mprint\u001b[39m(vif)\n",
      "File \u001b[0;32m~/.pyenv/versions/interpretableML/lib/python3.9/site-packages/statsmodels/stats/outliers_influence.py:194\u001b[0m, in \u001b[0;36mvariance_inflation_factor\u001b[0;34m(exog, exog_idx)\u001b[0m\n\u001b[1;32m    192\u001b[0m mask \u001b[38;5;241m=\u001b[39m np\u001b[38;5;241m.\u001b[39marange(k_vars) \u001b[38;5;241m!=\u001b[39m exog_idx\n\u001b[1;32m    193\u001b[0m x_noti \u001b[38;5;241m=\u001b[39m exog[:, mask]\n\u001b[0;32m--> 194\u001b[0m r_squared_i \u001b[38;5;241m=\u001b[39m \u001b[43mOLS\u001b[49m\u001b[43m(\u001b[49m\u001b[43mx_i\u001b[49m\u001b[43m,\u001b[49m\u001b[43m \u001b[49m\u001b[43mx_noti\u001b[49m\u001b[43m)\u001b[49m\u001b[38;5;241m.\u001b[39mfit()\u001b[38;5;241m.\u001b[39mrsquared\n\u001b[1;32m    195\u001b[0m vif \u001b[38;5;241m=\u001b[39m \u001b[38;5;241m1.\u001b[39m \u001b[38;5;241m/\u001b[39m (\u001b[38;5;241m1.\u001b[39m \u001b[38;5;241m-\u001b[39m r_squared_i)\n\u001b[1;32m    196\u001b[0m \u001b[38;5;28;01mreturn\u001b[39;00m vif\n",
      "File \u001b[0;32m~/.pyenv/versions/interpretableML/lib/python3.9/site-packages/statsmodels/regression/linear_model.py:890\u001b[0m, in \u001b[0;36mOLS.__init__\u001b[0;34m(self, endog, exog, missing, hasconst, **kwargs)\u001b[0m\n\u001b[1;32m    887\u001b[0m     msg \u001b[38;5;241m=\u001b[39m (\u001b[38;5;124m\"\u001b[39m\u001b[38;5;124mWeights are not supported in OLS and will be ignored\u001b[39m\u001b[38;5;124m\"\u001b[39m\n\u001b[1;32m    888\u001b[0m            \u001b[38;5;124m\"\u001b[39m\u001b[38;5;124mAn exception will be raised in the next version.\u001b[39m\u001b[38;5;124m\"\u001b[39m)\n\u001b[1;32m    889\u001b[0m     warnings\u001b[38;5;241m.\u001b[39mwarn(msg, ValueWarning)\n\u001b[0;32m--> 890\u001b[0m \u001b[38;5;28;43msuper\u001b[39;49m\u001b[43m(\u001b[49m\u001b[43mOLS\u001b[49m\u001b[43m,\u001b[49m\u001b[43m \u001b[49m\u001b[38;5;28;43mself\u001b[39;49m\u001b[43m)\u001b[49m\u001b[38;5;241;43m.\u001b[39;49m\u001b[38;5;21;43m__init__\u001b[39;49m\u001b[43m(\u001b[49m\u001b[43mendog\u001b[49m\u001b[43m,\u001b[49m\u001b[43m \u001b[49m\u001b[43mexog\u001b[49m\u001b[43m,\u001b[49m\u001b[43m \u001b[49m\u001b[43mmissing\u001b[49m\u001b[38;5;241;43m=\u001b[39;49m\u001b[43mmissing\u001b[49m\u001b[43m,\u001b[49m\n\u001b[1;32m    891\u001b[0m \u001b[43m                          \u001b[49m\u001b[43mhasconst\u001b[49m\u001b[38;5;241;43m=\u001b[39;49m\u001b[43mhasconst\u001b[49m\u001b[43m,\u001b[49m\u001b[43m \u001b[49m\u001b[38;5;241;43m*\u001b[39;49m\u001b[38;5;241;43m*\u001b[39;49m\u001b[43mkwargs\u001b[49m\u001b[43m)\u001b[49m\n\u001b[1;32m    892\u001b[0m \u001b[38;5;28;01mif\u001b[39;00m \u001b[38;5;124m\"\u001b[39m\u001b[38;5;124mweights\u001b[39m\u001b[38;5;124m\"\u001b[39m \u001b[38;5;129;01min\u001b[39;00m \u001b[38;5;28mself\u001b[39m\u001b[38;5;241m.\u001b[39m_init_keys:\n\u001b[1;32m    893\u001b[0m     \u001b[38;5;28mself\u001b[39m\u001b[38;5;241m.\u001b[39m_init_keys\u001b[38;5;241m.\u001b[39mremove(\u001b[38;5;124m\"\u001b[39m\u001b[38;5;124mweights\u001b[39m\u001b[38;5;124m\"\u001b[39m)\n",
      "File \u001b[0;32m~/.pyenv/versions/interpretableML/lib/python3.9/site-packages/statsmodels/regression/linear_model.py:717\u001b[0m, in \u001b[0;36mWLS.__init__\u001b[0;34m(self, endog, exog, weights, missing, hasconst, **kwargs)\u001b[0m\n\u001b[1;32m    715\u001b[0m \u001b[38;5;28;01melse\u001b[39;00m:\n\u001b[1;32m    716\u001b[0m     weights \u001b[38;5;241m=\u001b[39m weights\u001b[38;5;241m.\u001b[39msqueeze()\n\u001b[0;32m--> 717\u001b[0m \u001b[38;5;28;43msuper\u001b[39;49m\u001b[43m(\u001b[49m\u001b[43mWLS\u001b[49m\u001b[43m,\u001b[49m\u001b[43m \u001b[49m\u001b[38;5;28;43mself\u001b[39;49m\u001b[43m)\u001b[49m\u001b[38;5;241;43m.\u001b[39;49m\u001b[38;5;21;43m__init__\u001b[39;49m\u001b[43m(\u001b[49m\u001b[43mendog\u001b[49m\u001b[43m,\u001b[49m\u001b[43m \u001b[49m\u001b[43mexog\u001b[49m\u001b[43m,\u001b[49m\u001b[43m \u001b[49m\u001b[43mmissing\u001b[49m\u001b[38;5;241;43m=\u001b[39;49m\u001b[43mmissing\u001b[49m\u001b[43m,\u001b[49m\n\u001b[1;32m    718\u001b[0m \u001b[43m                          \u001b[49m\u001b[43mweights\u001b[49m\u001b[38;5;241;43m=\u001b[39;49m\u001b[43mweights\u001b[49m\u001b[43m,\u001b[49m\u001b[43m \u001b[49m\u001b[43mhasconst\u001b[49m\u001b[38;5;241;43m=\u001b[39;49m\u001b[43mhasconst\u001b[49m\u001b[43m,\u001b[49m\u001b[43m \u001b[49m\u001b[38;5;241;43m*\u001b[39;49m\u001b[38;5;241;43m*\u001b[39;49m\u001b[43mkwargs\u001b[49m\u001b[43m)\u001b[49m\n\u001b[1;32m    719\u001b[0m nobs \u001b[38;5;241m=\u001b[39m \u001b[38;5;28mself\u001b[39m\u001b[38;5;241m.\u001b[39mexog\u001b[38;5;241m.\u001b[39mshape[\u001b[38;5;241m0\u001b[39m]\n\u001b[1;32m    720\u001b[0m weights \u001b[38;5;241m=\u001b[39m \u001b[38;5;28mself\u001b[39m\u001b[38;5;241m.\u001b[39mweights\n",
      "File \u001b[0;32m~/.pyenv/versions/interpretableML/lib/python3.9/site-packages/statsmodels/regression/linear_model.py:191\u001b[0m, in \u001b[0;36mRegressionModel.__init__\u001b[0;34m(self, endog, exog, **kwargs)\u001b[0m\n\u001b[1;32m    190\u001b[0m \u001b[38;5;28;01mdef\u001b[39;00m \u001b[38;5;21m__init__\u001b[39m(\u001b[38;5;28mself\u001b[39m, endog, exog, \u001b[38;5;241m*\u001b[39m\u001b[38;5;241m*\u001b[39mkwargs):\n\u001b[0;32m--> 191\u001b[0m     \u001b[38;5;28;43msuper\u001b[39;49m\u001b[43m(\u001b[49m\u001b[43mRegressionModel\u001b[49m\u001b[43m,\u001b[49m\u001b[43m \u001b[49m\u001b[38;5;28;43mself\u001b[39;49m\u001b[43m)\u001b[49m\u001b[38;5;241;43m.\u001b[39;49m\u001b[38;5;21;43m__init__\u001b[39;49m\u001b[43m(\u001b[49m\u001b[43mendog\u001b[49m\u001b[43m,\u001b[49m\u001b[43m \u001b[49m\u001b[43mexog\u001b[49m\u001b[43m,\u001b[49m\u001b[43m \u001b[49m\u001b[38;5;241;43m*\u001b[39;49m\u001b[38;5;241;43m*\u001b[39;49m\u001b[43mkwargs\u001b[49m\u001b[43m)\u001b[49m\n\u001b[1;32m    192\u001b[0m     \u001b[38;5;28mself\u001b[39m\u001b[38;5;241m.\u001b[39m_data_attr\u001b[38;5;241m.\u001b[39mextend([\u001b[38;5;124m'\u001b[39m\u001b[38;5;124mpinv_wexog\u001b[39m\u001b[38;5;124m'\u001b[39m, \u001b[38;5;124m'\u001b[39m\u001b[38;5;124mwendog\u001b[39m\u001b[38;5;124m'\u001b[39m, \u001b[38;5;124m'\u001b[39m\u001b[38;5;124mwexog\u001b[39m\u001b[38;5;124m'\u001b[39m, \u001b[38;5;124m'\u001b[39m\u001b[38;5;124mweights\u001b[39m\u001b[38;5;124m'\u001b[39m])\n",
      "File \u001b[0;32m~/.pyenv/versions/interpretableML/lib/python3.9/site-packages/statsmodels/base/model.py:267\u001b[0m, in \u001b[0;36mLikelihoodModel.__init__\u001b[0;34m(self, endog, exog, **kwargs)\u001b[0m\n\u001b[1;32m    266\u001b[0m \u001b[38;5;28;01mdef\u001b[39;00m \u001b[38;5;21m__init__\u001b[39m(\u001b[38;5;28mself\u001b[39m, endog, exog\u001b[38;5;241m=\u001b[39m\u001b[38;5;28;01mNone\u001b[39;00m, \u001b[38;5;241m*\u001b[39m\u001b[38;5;241m*\u001b[39mkwargs):\n\u001b[0;32m--> 267\u001b[0m     \u001b[38;5;28;43msuper\u001b[39;49m\u001b[43m(\u001b[49m\u001b[43m)\u001b[49m\u001b[38;5;241;43m.\u001b[39;49m\u001b[38;5;21;43m__init__\u001b[39;49m\u001b[43m(\u001b[49m\u001b[43mendog\u001b[49m\u001b[43m,\u001b[49m\u001b[43m \u001b[49m\u001b[43mexog\u001b[49m\u001b[43m,\u001b[49m\u001b[43m \u001b[49m\u001b[38;5;241;43m*\u001b[39;49m\u001b[38;5;241;43m*\u001b[39;49m\u001b[43mkwargs\u001b[49m\u001b[43m)\u001b[49m\n\u001b[1;32m    268\u001b[0m     \u001b[38;5;28mself\u001b[39m\u001b[38;5;241m.\u001b[39minitialize()\n",
      "File \u001b[0;32m~/.pyenv/versions/interpretableML/lib/python3.9/site-packages/statsmodels/base/model.py:92\u001b[0m, in \u001b[0;36mModel.__init__\u001b[0;34m(self, endog, exog, **kwargs)\u001b[0m\n\u001b[1;32m     90\u001b[0m missing \u001b[38;5;241m=\u001b[39m kwargs\u001b[38;5;241m.\u001b[39mpop(\u001b[38;5;124m'\u001b[39m\u001b[38;5;124mmissing\u001b[39m\u001b[38;5;124m'\u001b[39m, \u001b[38;5;124m'\u001b[39m\u001b[38;5;124mnone\u001b[39m\u001b[38;5;124m'\u001b[39m)\n\u001b[1;32m     91\u001b[0m hasconst \u001b[38;5;241m=\u001b[39m kwargs\u001b[38;5;241m.\u001b[39mpop(\u001b[38;5;124m'\u001b[39m\u001b[38;5;124mhasconst\u001b[39m\u001b[38;5;124m'\u001b[39m, \u001b[38;5;28;01mNone\u001b[39;00m)\n\u001b[0;32m---> 92\u001b[0m \u001b[38;5;28mself\u001b[39m\u001b[38;5;241m.\u001b[39mdata \u001b[38;5;241m=\u001b[39m \u001b[38;5;28;43mself\u001b[39;49m\u001b[38;5;241;43m.\u001b[39;49m\u001b[43m_handle_data\u001b[49m\u001b[43m(\u001b[49m\u001b[43mendog\u001b[49m\u001b[43m,\u001b[49m\u001b[43m \u001b[49m\u001b[43mexog\u001b[49m\u001b[43m,\u001b[49m\u001b[43m \u001b[49m\u001b[43mmissing\u001b[49m\u001b[43m,\u001b[49m\u001b[43m \u001b[49m\u001b[43mhasconst\u001b[49m\u001b[43m,\u001b[49m\n\u001b[1;32m     93\u001b[0m \u001b[43m                              \u001b[49m\u001b[38;5;241;43m*\u001b[39;49m\u001b[38;5;241;43m*\u001b[39;49m\u001b[43mkwargs\u001b[49m\u001b[43m)\u001b[49m\n\u001b[1;32m     94\u001b[0m \u001b[38;5;28mself\u001b[39m\u001b[38;5;241m.\u001b[39mk_constant \u001b[38;5;241m=\u001b[39m \u001b[38;5;28mself\u001b[39m\u001b[38;5;241m.\u001b[39mdata\u001b[38;5;241m.\u001b[39mk_constant\n\u001b[1;32m     95\u001b[0m \u001b[38;5;28mself\u001b[39m\u001b[38;5;241m.\u001b[39mexog \u001b[38;5;241m=\u001b[39m \u001b[38;5;28mself\u001b[39m\u001b[38;5;241m.\u001b[39mdata\u001b[38;5;241m.\u001b[39mexog\n",
      "File \u001b[0;32m~/.pyenv/versions/interpretableML/lib/python3.9/site-packages/statsmodels/base/model.py:132\u001b[0m, in \u001b[0;36mModel._handle_data\u001b[0;34m(self, endog, exog, missing, hasconst, **kwargs)\u001b[0m\n\u001b[1;32m    131\u001b[0m \u001b[38;5;28;01mdef\u001b[39;00m \u001b[38;5;21m_handle_data\u001b[39m(\u001b[38;5;28mself\u001b[39m, endog, exog, missing, hasconst, \u001b[38;5;241m*\u001b[39m\u001b[38;5;241m*\u001b[39mkwargs):\n\u001b[0;32m--> 132\u001b[0m     data \u001b[38;5;241m=\u001b[39m \u001b[43mhandle_data\u001b[49m\u001b[43m(\u001b[49m\u001b[43mendog\u001b[49m\u001b[43m,\u001b[49m\u001b[43m \u001b[49m\u001b[43mexog\u001b[49m\u001b[43m,\u001b[49m\u001b[43m \u001b[49m\u001b[43mmissing\u001b[49m\u001b[43m,\u001b[49m\u001b[43m \u001b[49m\u001b[43mhasconst\u001b[49m\u001b[43m,\u001b[49m\u001b[43m \u001b[49m\u001b[38;5;241;43m*\u001b[39;49m\u001b[38;5;241;43m*\u001b[39;49m\u001b[43mkwargs\u001b[49m\u001b[43m)\u001b[49m\n\u001b[1;32m    133\u001b[0m     \u001b[38;5;66;03m# kwargs arrays could have changed, easier to just attach here\u001b[39;00m\n\u001b[1;32m    134\u001b[0m     \u001b[38;5;28;01mfor\u001b[39;00m key \u001b[38;5;129;01min\u001b[39;00m kwargs:\n",
      "File \u001b[0;32m~/.pyenv/versions/interpretableML/lib/python3.9/site-packages/statsmodels/base/data.py:673\u001b[0m, in \u001b[0;36mhandle_data\u001b[0;34m(endog, exog, missing, hasconst, **kwargs)\u001b[0m\n\u001b[1;32m    670\u001b[0m     exog \u001b[38;5;241m=\u001b[39m np\u001b[38;5;241m.\u001b[39masarray(exog)\n\u001b[1;32m    672\u001b[0m klass \u001b[38;5;241m=\u001b[39m handle_data_class_factory(endog, exog)\n\u001b[0;32m--> 673\u001b[0m \u001b[38;5;28;01mreturn\u001b[39;00m \u001b[43mklass\u001b[49m\u001b[43m(\u001b[49m\u001b[43mendog\u001b[49m\u001b[43m,\u001b[49m\u001b[43m \u001b[49m\u001b[43mexog\u001b[49m\u001b[38;5;241;43m=\u001b[39;49m\u001b[43mexog\u001b[49m\u001b[43m,\u001b[49m\u001b[43m \u001b[49m\u001b[43mmissing\u001b[49m\u001b[38;5;241;43m=\u001b[39;49m\u001b[43mmissing\u001b[49m\u001b[43m,\u001b[49m\u001b[43m \u001b[49m\u001b[43mhasconst\u001b[49m\u001b[38;5;241;43m=\u001b[39;49m\u001b[43mhasconst\u001b[49m\u001b[43m,\u001b[49m\n\u001b[1;32m    674\u001b[0m \u001b[43m             \u001b[49m\u001b[38;5;241;43m*\u001b[39;49m\u001b[38;5;241;43m*\u001b[39;49m\u001b[43mkwargs\u001b[49m\u001b[43m)\u001b[49m\n",
      "File \u001b[0;32m~/.pyenv/versions/interpretableML/lib/python3.9/site-packages/statsmodels/base/data.py:86\u001b[0m, in \u001b[0;36mModelData.__init__\u001b[0;34m(self, endog, exog, missing, hasconst, **kwargs)\u001b[0m\n\u001b[1;32m     84\u001b[0m \u001b[38;5;28mself\u001b[39m\u001b[38;5;241m.\u001b[39mconst_idx \u001b[38;5;241m=\u001b[39m \u001b[38;5;28;01mNone\u001b[39;00m\n\u001b[1;32m     85\u001b[0m \u001b[38;5;28mself\u001b[39m\u001b[38;5;241m.\u001b[39mk_constant \u001b[38;5;241m=\u001b[39m \u001b[38;5;241m0\u001b[39m\n\u001b[0;32m---> 86\u001b[0m \u001b[38;5;28;43mself\u001b[39;49m\u001b[38;5;241;43m.\u001b[39;49m\u001b[43m_handle_constant\u001b[49m\u001b[43m(\u001b[49m\u001b[43mhasconst\u001b[49m\u001b[43m)\u001b[49m\n\u001b[1;32m     87\u001b[0m \u001b[38;5;28mself\u001b[39m\u001b[38;5;241m.\u001b[39m_check_integrity()\n\u001b[1;32m     88\u001b[0m \u001b[38;5;28mself\u001b[39m\u001b[38;5;241m.\u001b[39m_cache \u001b[38;5;241m=\u001b[39m {}\n",
      "File \u001b[0;32m~/.pyenv/versions/interpretableML/lib/python3.9/site-packages/statsmodels/base/data.py:176\u001b[0m, in \u001b[0;36mModelData._handle_constant\u001b[0;34m(self, hasconst)\u001b[0m\n\u001b[1;32m    173\u001b[0m augmented_exog \u001b[38;5;241m=\u001b[39m np\u001b[38;5;241m.\u001b[39mcolumn_stack(\n\u001b[1;32m    174\u001b[0m             (np\u001b[38;5;241m.\u001b[39mones(\u001b[38;5;28mself\u001b[39m\u001b[38;5;241m.\u001b[39mexog\u001b[38;5;241m.\u001b[39mshape[\u001b[38;5;241m0\u001b[39m]), \u001b[38;5;28mself\u001b[39m\u001b[38;5;241m.\u001b[39mexog))\n\u001b[1;32m    175\u001b[0m rank_augm \u001b[38;5;241m=\u001b[39m np\u001b[38;5;241m.\u001b[39mlinalg\u001b[38;5;241m.\u001b[39mmatrix_rank(augmented_exog)\n\u001b[0;32m--> 176\u001b[0m rank_orig \u001b[38;5;241m=\u001b[39m \u001b[43mnp\u001b[49m\u001b[38;5;241;43m.\u001b[39;49m\u001b[43mlinalg\u001b[49m\u001b[38;5;241;43m.\u001b[39;49m\u001b[43mmatrix_rank\u001b[49m\u001b[43m(\u001b[49m\u001b[38;5;28;43mself\u001b[39;49m\u001b[38;5;241;43m.\u001b[39;49m\u001b[43mexog\u001b[49m\u001b[43m)\u001b[49m\n\u001b[1;32m    177\u001b[0m \u001b[38;5;28mself\u001b[39m\u001b[38;5;241m.\u001b[39mk_constant \u001b[38;5;241m=\u001b[39m \u001b[38;5;28mint\u001b[39m(rank_orig \u001b[38;5;241m==\u001b[39m rank_augm)\n\u001b[1;32m    178\u001b[0m \u001b[38;5;28mself\u001b[39m\u001b[38;5;241m.\u001b[39mconst_idx \u001b[38;5;241m=\u001b[39m \u001b[38;5;28;01mNone\u001b[39;00m\n",
      "File \u001b[0;32m<__array_function__ internals>:5\u001b[0m, in \u001b[0;36mmatrix_rank\u001b[0;34m(*args, **kwargs)\u001b[0m\n",
      "File \u001b[0;32m~/.pyenv/versions/interpretableML/lib/python3.9/site-packages/numpy/linalg/linalg.py:1903\u001b[0m, in \u001b[0;36mmatrix_rank\u001b[0;34m(M, tol, hermitian)\u001b[0m\n\u001b[1;32m   1901\u001b[0m S \u001b[38;5;241m=\u001b[39m svd(M, compute_uv\u001b[38;5;241m=\u001b[39m\u001b[38;5;28;01mFalse\u001b[39;00m, hermitian\u001b[38;5;241m=\u001b[39mhermitian)\n\u001b[1;32m   1902\u001b[0m \u001b[38;5;28;01mif\u001b[39;00m tol \u001b[38;5;129;01mis\u001b[39;00m \u001b[38;5;28;01mNone\u001b[39;00m:\n\u001b[0;32m-> 1903\u001b[0m     tol \u001b[38;5;241m=\u001b[39m \u001b[43mS\u001b[49m\u001b[38;5;241;43m.\u001b[39;49m\u001b[43mmax\u001b[49m\u001b[43m(\u001b[49m\u001b[43maxis\u001b[49m\u001b[38;5;241;43m=\u001b[39;49m\u001b[38;5;241;43m-\u001b[39;49m\u001b[38;5;241;43m1\u001b[39;49m\u001b[43m,\u001b[49m\u001b[43m \u001b[49m\u001b[43mkeepdims\u001b[49m\u001b[38;5;241;43m=\u001b[39;49m\u001b[38;5;28;43;01mTrue\u001b[39;49;00m\u001b[43m)\u001b[49m \u001b[38;5;241m*\u001b[39m \u001b[38;5;28mmax\u001b[39m(M\u001b[38;5;241m.\u001b[39mshape[\u001b[38;5;241m-\u001b[39m\u001b[38;5;241m2\u001b[39m:]) \u001b[38;5;241m*\u001b[39m finfo(S\u001b[38;5;241m.\u001b[39mdtype)\u001b[38;5;241m.\u001b[39meps\n\u001b[1;32m   1904\u001b[0m \u001b[38;5;28;01melse\u001b[39;00m:\n\u001b[1;32m   1905\u001b[0m     tol \u001b[38;5;241m=\u001b[39m asarray(tol)[\u001b[38;5;241m.\u001b[39m\u001b[38;5;241m.\u001b[39m\u001b[38;5;241m.\u001b[39m, newaxis]\n",
      "File \u001b[0;32m~/.pyenv/versions/interpretableML/lib/python3.9/site-packages/numpy/core/_methods.py:40\u001b[0m, in \u001b[0;36m_amax\u001b[0;34m(a, axis, out, keepdims, initial, where)\u001b[0m\n\u001b[1;32m     38\u001b[0m \u001b[38;5;28;01mdef\u001b[39;00m \u001b[38;5;21m_amax\u001b[39m(a, axis\u001b[38;5;241m=\u001b[39m\u001b[38;5;28;01mNone\u001b[39;00m, out\u001b[38;5;241m=\u001b[39m\u001b[38;5;28;01mNone\u001b[39;00m, keepdims\u001b[38;5;241m=\u001b[39m\u001b[38;5;28;01mFalse\u001b[39;00m,\n\u001b[1;32m     39\u001b[0m           initial\u001b[38;5;241m=\u001b[39m_NoValue, where\u001b[38;5;241m=\u001b[39m\u001b[38;5;28;01mTrue\u001b[39;00m):\n\u001b[0;32m---> 40\u001b[0m     \u001b[38;5;28;01mreturn\u001b[39;00m \u001b[43mumr_maximum\u001b[49m\u001b[43m(\u001b[49m\u001b[43ma\u001b[49m\u001b[43m,\u001b[49m\u001b[43m \u001b[49m\u001b[43maxis\u001b[49m\u001b[43m,\u001b[49m\u001b[43m \u001b[49m\u001b[38;5;28;43;01mNone\u001b[39;49;00m\u001b[43m,\u001b[49m\u001b[43m \u001b[49m\u001b[43mout\u001b[49m\u001b[43m,\u001b[49m\u001b[43m \u001b[49m\u001b[43mkeepdims\u001b[49m\u001b[43m,\u001b[49m\u001b[43m \u001b[49m\u001b[43minitial\u001b[49m\u001b[43m,\u001b[49m\u001b[43m \u001b[49m\u001b[43mwhere\u001b[49m\u001b[43m)\u001b[49m\n",
      "\u001b[0;31mValueError\u001b[0m: zero-size array to reduction operation maximum which has no identity"
     ]
    }
   ],
   "source": [
    "vif = pd.DataFrame()\n",
    "vif[\"VIF Factor\"] = [variance_inflation_factor(X_train.values, i) for i in range(X_train.shape[1])]\n",
    "vif[\"features\"] = X_train.columns\n",
    "\n",
    "print(vif)\n",
    "\n",
    "plt.plot(vif[\"VIF Factor\"])"
   ]
  },
  {
   "cell_type": "code",
   "execution_count": 57,
   "metadata": {},
   "outputs": [
    {
     "output_type": "error",
     "ename": "ValueError",
     "evalue": "shapes (721509,1) and (2,) not aligned: 1 (dim 1) != 2 (dim 0)",
     "traceback": [
      "\u001b[0;31m---------------------------------------------------------------------------\u001b[0m",
      "\u001b[0;31mValueError\u001b[0m                                Traceback (most recent call last)",
      "Input \u001b[0;32mIn [57]\u001b[0m, in \u001b[0;36m<cell line: 1>\u001b[0;34m()\u001b[0m\n\u001b[0;32m----> 1\u001b[0m y_train_pred \u001b[38;5;241m=\u001b[39m \u001b[43mlinreg_mdl\u001b[49m\u001b[38;5;241;43m.\u001b[39;49m\u001b[43mpredict\u001b[49m\u001b[43m(\u001b[49m\u001b[43mX_train\u001b[49m\u001b[38;5;241;43m.\u001b[39;49m\u001b[43mvalues\u001b[49m\u001b[43m)\u001b[49m\n\u001b[1;32m      2\u001b[0m \u001b[38;5;28mprint\u001b[39m(math\u001b[38;5;241m.\u001b[39msqrt(metrics\u001b[38;5;241m.\u001b[39mmean_squared_error(y_train, y_train_pred)))\n",
      "File \u001b[0;32m~/.pyenv/versions/interpretableML/lib/python3.9/site-packages/statsmodels/base/model.py:1159\u001b[0m, in \u001b[0;36mResults.predict\u001b[0;34m(self, exog, transform, *args, **kwargs)\u001b[0m\n\u001b[1;32m   1156\u001b[0m         exog \u001b[38;5;241m=\u001b[39m exog[:, \u001b[38;5;28;01mNone\u001b[39;00m]\n\u001b[1;32m   1157\u001b[0m     exog \u001b[38;5;241m=\u001b[39m np\u001b[38;5;241m.\u001b[39matleast_2d(exog)  \u001b[38;5;66;03m# needed in count model shape[1]\u001b[39;00m\n\u001b[0;32m-> 1159\u001b[0m predict_results \u001b[38;5;241m=\u001b[39m \u001b[38;5;28;43mself\u001b[39;49m\u001b[38;5;241;43m.\u001b[39;49m\u001b[43mmodel\u001b[49m\u001b[38;5;241;43m.\u001b[39;49m\u001b[43mpredict\u001b[49m\u001b[43m(\u001b[49m\u001b[38;5;28;43mself\u001b[39;49m\u001b[38;5;241;43m.\u001b[39;49m\u001b[43mparams\u001b[49m\u001b[43m,\u001b[49m\u001b[43m \u001b[49m\u001b[43mexog\u001b[49m\u001b[43m,\u001b[49m\u001b[43m \u001b[49m\u001b[38;5;241;43m*\u001b[39;49m\u001b[43margs\u001b[49m\u001b[43m,\u001b[49m\n\u001b[1;32m   1160\u001b[0m \u001b[43m                                     \u001b[49m\u001b[38;5;241;43m*\u001b[39;49m\u001b[38;5;241;43m*\u001b[39;49m\u001b[43mkwargs\u001b[49m\u001b[43m)\u001b[49m\n\u001b[1;32m   1162\u001b[0m \u001b[38;5;28;01mif\u001b[39;00m exog_index \u001b[38;5;129;01mis\u001b[39;00m \u001b[38;5;129;01mnot\u001b[39;00m \u001b[38;5;28;01mNone\u001b[39;00m \u001b[38;5;129;01mand\u001b[39;00m \u001b[38;5;129;01mnot\u001b[39;00m \u001b[38;5;28mhasattr\u001b[39m(predict_results,\n\u001b[1;32m   1163\u001b[0m                                           \u001b[38;5;124m'\u001b[39m\u001b[38;5;124mpredicted_values\u001b[39m\u001b[38;5;124m'\u001b[39m):\n\u001b[1;32m   1164\u001b[0m     \u001b[38;5;28;01mif\u001b[39;00m predict_results\u001b[38;5;241m.\u001b[39mndim \u001b[38;5;241m==\u001b[39m \u001b[38;5;241m1\u001b[39m:\n",
      "File \u001b[0;32m~/.pyenv/versions/interpretableML/lib/python3.9/site-packages/statsmodels/regression/linear_model.py:381\u001b[0m, in \u001b[0;36mRegressionModel.predict\u001b[0;34m(self, params, exog)\u001b[0m\n\u001b[1;32m    378\u001b[0m \u001b[38;5;28;01mif\u001b[39;00m exog \u001b[38;5;129;01mis\u001b[39;00m \u001b[38;5;28;01mNone\u001b[39;00m:\n\u001b[1;32m    379\u001b[0m     exog \u001b[38;5;241m=\u001b[39m \u001b[38;5;28mself\u001b[39m\u001b[38;5;241m.\u001b[39mexog\n\u001b[0;32m--> 381\u001b[0m \u001b[38;5;28;01mreturn\u001b[39;00m \u001b[43mnp\u001b[49m\u001b[38;5;241;43m.\u001b[39;49m\u001b[43mdot\u001b[49m\u001b[43m(\u001b[49m\u001b[43mexog\u001b[49m\u001b[43m,\u001b[49m\u001b[43m \u001b[49m\u001b[43mparams\u001b[49m\u001b[43m)\u001b[49m\n",
      "File \u001b[0;32m<__array_function__ internals>:5\u001b[0m, in \u001b[0;36mdot\u001b[0;34m(*args, **kwargs)\u001b[0m\n",
      "\u001b[0;31mValueError\u001b[0m: shapes (721509,1) and (2,) not aligned: 1 (dim 1) != 2 (dim 0)"
     ]
    }
   ],
   "source": [
    "y_train_pred = linreg_mdl.predict(X_train.values)\n",
    "print(math.sqrt(metrics.mean_squared_error(y_train, y_train_pred)))"
   ]
  },
  {
   "cell_type": "code",
   "execution_count": null,
   "metadata": {},
   "outputs": [],
   "source": []
  }
 ],
 "metadata": {
  "language_info": {
   "codemirror_mode": {
    "name": "ipython",
    "version": 3
   },
   "file_extension": ".py",
   "mimetype": "text/x-python",
   "name": "python",
   "nbconvert_exporter": "python",
   "pygments_lexer": "ipython3",
   "version": "3.9.0-final"
  },
  "orig_nbformat": 2,
  "kernelspec": {
   "name": "python39064bitinterpretablemlvenv65948b578a124f88b51b01fb0aff0105",
   "display_name": "Python 3.9.0 64-bit ('interpretableML': venv)"
  }
 },
 "nbformat": 4,
 "nbformat_minor": 2
}